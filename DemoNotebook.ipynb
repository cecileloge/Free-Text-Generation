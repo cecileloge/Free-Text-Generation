{
  "nbformat": 4,
  "nbformat_minor": 0,
  "metadata": {
    "accelerator": "GPU",
    "colab": {
      "name": "CS230 // Model Demo",
      "provenance": [],
      "collapsed_sections": [
        "-XuY71GfoOlL",
        "mzVUh3ugx4-7"
      ]
    },
    "kernelspec": {
      "display_name": "Python 3",
      "name": "python3"
    }
  },
  "cells": [
    {
      "cell_type": "markdown",
      "metadata": {
        "id": "vOGCCycHnkW2"
      },
      "source": [
        "# Model Demo (Bidirectional Model & Encoder-Decoder)\n",
        "\n",
        "\n",
        "*   STEP 1 IMPORT MODEL & UTILS\n",
        "*   STEP 2 DEMO\n",
        "\n"
      ]
    },
    {
      "cell_type": "code",
      "metadata": {
        "id": "yB4k2TbnU5tH"
      },
      "source": [
        "from google.colab import drive\n",
        "drive.mount(\"/content/drive\")"
      ],
      "execution_count": null,
      "outputs": []
    },
    {
      "cell_type": "markdown",
      "metadata": {
        "id": "-XuY71GfoOlL"
      },
      "source": [
        "## STEP 0 // IMPORT OUR STUFF"
      ]
    },
    {
      "cell_type": "code",
      "metadata": {
        "id": "upxDWxe4VxAu"
      },
      "source": [
        "# !pip install numpy\n",
        "import pandas as pd\n",
        "import numpy as np\n",
        "import ast\n",
        "# visualization\n",
        "import seaborn as sns\n",
        "import matplotlib.pyplot as plt\n",
        "%matplotlib inline\n",
        "\n",
        "from itertools import compress\n",
        "\n",
        "import random\n",
        "import sys\n",
        "import io"
      ],
      "execution_count": 2,
      "outputs": []
    },
    {
      "cell_type": "code",
      "metadata": {
        "id": "dQ10uNzDw4u-",
        "outputId": "e1b75174-f97e-4317-95cc-54f5c4078949",
        "colab": {
          "base_uri": "https://localhost:8080/"
        }
      },
      "source": [
        "!pip install colorama\n",
        "from colorama import Fore"
      ],
      "execution_count": 3,
      "outputs": [
        {
          "output_type": "stream",
          "text": [
            "Requirement already satisfied: colorama in /usr/local/lib/python3.6/dist-packages (0.4.4)\n"
          ],
          "name": "stdout"
        }
      ]
    },
    {
      "cell_type": "code",
      "metadata": {
        "id": "6zGiy35aw4jb"
      },
      "source": [
        "import tensorflow as tf\n",
        "\n",
        "from tensorflow.keras.models import Model, load_model\n",
        "from tensorflow.keras.layers import Input, Dense, Concatenate, Masking, Embedding, Dropout\n",
        "from tensorflow.keras.preprocessing.text import Tokenizer\n",
        "from tensorflow.keras.preprocessing.sequence import pad_sequences\n",
        "from tensorflow.keras.layers import Layer, InputSpec\n",
        "from tensorflow.keras.layers import GRU, LSTM, Bidirectional, Dot, Permute\n",
        "from tensorflow.keras.layers import Conv1D, Activation, Multiply, Flatten, BatchNormalization, Add\n",
        "from tensorflow.keras.losses import CategoricalCrossentropy, SparseCategoricalCrossentropy\n",
        "from tensorflow.keras.callbacks import LambdaCallback, ModelCheckpoint\n",
        "from tensorflow.keras.optimizers import RMSprop, Adam, Adamax\n",
        "from tensorflow.keras import activations\n",
        "\n",
        "from sklearn.model_selection import train_test_split\n",
        "import nltk\n",
        "from nltk.translate.bleu_score import sentence_bleu\n",
        "from nltk.translate.bleu_score import SmoothingFunction"
      ],
      "execution_count": 4,
      "outputs": []
    },
    {
      "cell_type": "code",
      "metadata": {
        "id": "QhS49cFRUnhO"
      },
      "source": [
        "data = pd.read_csv('/content/drive/My Drive/CS230/finaldata.csv')\n",
        "data['overview_stop']=['<START> '+a+' <END>' for a in data.overview_stop]"
      ],
      "execution_count": 5,
      "outputs": []
    },
    {
      "cell_type": "markdown",
      "metadata": {
        "id": "ShRUetCRUOTW"
      },
      "source": [
        "## STEP 1 // IMPORT MODEL & UTILS"
      ]
    },
    {
      "cell_type": "code",
      "metadata": {
        "id": "f_gijjWJUl0v"
      },
      "source": [
        "# TOKENIZE\n",
        "liststrings = list(data.overview_stop)\n",
        "size_dict = 10000\n",
        "tokenizer = Tokenizer(num_words= size_dict+1, \n",
        "                      filters='!\"#$%&()*+,-/:;=?@[\\\\]^_`{|}~\\t\\n', \n",
        "                      split=' ', \n",
        "                      oov_token='<UNK>',\n",
        "                      document_count=0)\n",
        "\n",
        "\n",
        "tokenizer.fit_on_texts(liststrings) \n",
        "tokenizer_config = tokenizer.get_config()\n",
        "dict_counts = tokenizer_config['word_counts']\n",
        "dict_index = tokenizer_config['word_index'] \n",
        "\n",
        "# UTILS\n",
        "win_len = 10"
      ],
      "execution_count": 6,
      "outputs": []
    },
    {
      "cell_type": "code",
      "metadata": {
        "id": "RM16a6MyOtDO",
        "outputId": "fa4c2414-14bf-40cf-e1b4-b65b6542871d",
        "colab": {
          "base_uri": "https://localhost:8080/"
        }
      },
      "source": [
        "model = load_model('/content/drive/My Drive/CS230/Models/bidirectional.h5')"
      ],
      "execution_count": 7,
      "outputs": [
        {
          "output_type": "stream",
          "text": [
            "WARNING:tensorflow:Error in loading the saved optimizer state. As a result, your model is starting with a freshly initialized optimizer.\n"
          ],
          "name": "stdout"
        }
      ]
    },
    {
      "cell_type": "code",
      "metadata": {
        "id": "ar1SXEG8Qk9U",
        "outputId": "2741b25d-47fb-44ed-e064-c0bd6470056e",
        "colab": {
          "base_uri": "https://localhost:8080/"
        }
      },
      "source": [
        "encod_model = load_model('/content/drive/My Drive/CS230/Models/encoder.h5')"
      ],
      "execution_count": 9,
      "outputs": [
        {
          "output_type": "stream",
          "text": [
            "WARNING:tensorflow:Error in loading the saved optimizer state. As a result, your model is starting with a freshly initialized optimizer.\n"
          ],
          "name": "stdout"
        }
      ]
    },
    {
      "cell_type": "code",
      "metadata": {
        "id": "KCO5_nAI1wmj"
      },
      "source": [
        "# DEMO FUNCTIONS FOR CHOOSE YOUR OWN ADVENTURE\n",
        "\n",
        "end = tokenizer.texts_to_sequences([['<end>']])[0][0] \n",
        "start = tokenizer.texts_to_sequences([['<start>']])[0][0] \n",
        "dicke = tokenizer.texts_to_sequences([[\"dickens'\"]])[0][0]\n",
        "\n",
        "def top_n(preds, n):\n",
        "  preds = np.asarray(preds).astype('float64')\n",
        "  #print(preds)\n",
        "  preds[0] = np.min(preds) # Minimize prob of <UNK> from being generated as it is not useful\n",
        "  preds[start-1] = np.min(preds) # Minimize prob of <start> from being generated as it is not useful\n",
        "  preds[dicke-1] = np.min(preds) # Minimize prob of \"dicken'\" from being generated as it is not useful\n",
        "  preds = preds-np.max(preds)\n",
        "  preds = np.exp(preds)\n",
        "  preds = preds/np.sum(preds)\n",
        "\n",
        "  out = np.argpartition(preds, -n)[-n:]\n",
        "  return out+1\n",
        "\n",
        "def model_next(start = True, seed = 'we have come to think that'):\n",
        "    if start: seed = '<START> '+seed\n",
        "    print(Fore.LIGHTBLUE_EX + seed)\n",
        "    x_in = pad_sequences(tokenizer.texts_to_sequences([seed]), truncating='pre', maxlen=10)\n",
        "    \n",
        "    preds = model.predict(x_in, verbose=0)[0]\n",
        "    options = top_n(preds, 5)\n",
        "    a = tokenizer.sequences_to_texts([[options[0]]])[0]\n",
        "    b = tokenizer.sequences_to_texts([[options[1]]])[0]\n",
        "    c = tokenizer.sequences_to_texts([[options[2]]])[0]\n",
        "    d = tokenizer.sequences_to_texts([[options[3]]])[0]\n",
        "    e = tokenizer.sequences_to_texts([[options[4]]])[0]\n",
        "    \n",
        "    print(Fore.BLACK + 'Options: 1.{} , 2.{} , 3.{} , 4.{}, 5.{} '.format(a,b,c,d,e))\n",
        "    print(Fore.BLACK + \"Select your next word! (input the number)\")\n",
        "\n",
        "    choice = input()\n",
        "    choice = int(choice)\n",
        "    newseed = seed+\" \"+tokenizer.sequences_to_texts([[options[choice-1]]])[0]\n",
        "\n",
        "\n",
        "    \n",
        "    return newseed, options[choice-1]"
      ],
      "execution_count": 10,
      "outputs": []
    },
    {
      "cell_type": "code",
      "metadata": {
        "id": "f8kcI0Z-0Of1"
      },
      "source": [
        "# DEMO FUNCTIONS FOR FULL SAMPLES\n",
        "\n",
        "def sample(preds, greedy = False):\n",
        "  # This first function samples the next word based on the output logits from the model\n",
        "  preds = np.asarray(preds).astype('float64')\n",
        "  #print(preds)\n",
        "  preds[0] = np.min(preds) # Minimize prob of <UNK> from being generated as it is not useful\n",
        "  preds[start-1] = np.min(preds) # Minimize prob of <start> from being generated as it is not useful\n",
        "  preds[dicke-1] = np.min(preds) # Minimize prob of \"dicken'\" from being generated as it is not useful\n",
        "  preds = preds-np.max(preds)\n",
        "  preds = np.exp(preds)\n",
        "  preds = preds/np.sum(preds)\n",
        "  samp = np.random.multinomial(1, preds, 1)\n",
        "  if greedy: \n",
        "    out = max(1, np.argmax(preds))\n",
        "  else: \n",
        "    out = np.argmax(samp)\n",
        "  return out+1\n",
        "\n",
        "\n",
        "def model_generate_text(seed, length = 35, greedy = False, verbose = True, endtok=True):\n",
        "    # This function generates text from a given seed - works like the callback function.\n",
        "    input = '<START> '+seed\n",
        "    output = []\n",
        "    \n",
        "    x_in = pad_sequences(tokenizer.texts_to_sequences([input]), maxlen=10)\n",
        "\n",
        "    i = -1\n",
        "    count = 0\n",
        "    if endtok == True:\n",
        "      while i != end and count <length:     \n",
        "        preds = model.predict(x_in, verbose=0)[0]\n",
        "        i = sample(preds, greedy=greedy)\n",
        "        x_in = np.append(x_in[:,1:],i).reshape((1,10))\n",
        "        output.append(i)\n",
        "        count +=1\n",
        "    else:\n",
        "      while count <length:     \n",
        "        preds = model.predict(x_in, verbose=0)[0]\n",
        "        i = sample(preds, greedy=greedy)\n",
        "        x_in = np.append(x_in[:,1:],i).reshape((1,10))\n",
        "        output.append(i)\n",
        "        count +=1\n",
        "    if verbose: print(seed+\" \"+tokenizer.sequences_to_texts([output])[0])\n",
        "    return str(seed+\" \"+tokenizer.sequences_to_texts([output])[0]), output\n",
        "\n",
        "# Genre Utils\n",
        "listgenre = ['action', 'adventure', 'animation', 'comedy', 'crime', 'documentary', 'drama', 'family', 'fantasy','foreign', \n",
        "             'history', 'horror', 'music', 'mystery', 'romance', 'sci_fi','thriller', 'tv_movie', 'war', 'western']\n",
        "dictgenre = {listgenre[i] : i for i in range(len(listgenre))}\n",
        "\n",
        "def genre_generate(seed, genre = ['drama'], length = 35, greedy = False, verbose = True):\n",
        "    input = '<START> '+seed\n",
        "    output = []\n",
        "    x_in = pad_sequences(tokenizer.texts_to_sequences([input]), maxlen=10)\n",
        "    genre_in = np.zeros((1,20))\n",
        "    for g in genre:\n",
        "      i = dictgenre[g]\n",
        "      genre_in[:,i] = 1\n",
        "\n",
        "    i = -1\n",
        "    count = 0\n",
        "    v = 0\n",
        "    while i != end and count <length:     \n",
        "      preds = encod_model.predict([genre_in, x_in], verbose=0)[0]\n",
        "      i = sample(preds, greedy=greedy)\n",
        "      x_in = np.append(x_in[:,1:],i).reshape((1,10))\n",
        "      output.append(i)\n",
        "      count +=1\n",
        "    if verbose: print(seed+\" \"+tokenizer.sequences_to_texts([output])[0])\n",
        "    return str(seed+\" \"+tokenizer.sequences_to_texts([output])[0]), output\n",
        "\n",
        "def generate_n(seed,n):\n",
        "  print(\"ADVENTURE:\")\n",
        "  genre_generate(seed, genre = ['adventure'], greedy = False)\n",
        "  print(\"FANTASY:\")\n",
        "  genre_generate(seed, genre = ['fantasy'], greedy = False)\n",
        "  print(\"THRILLER CRIME:\")\n",
        "  genre_generate(seed, genre = ['thriller','crime'], greedy = False)\n",
        "  print(\"RANDOM:\")\n",
        "  for i in range(n-1):\n",
        "    model_generate_text(seed)\n",
        "  model_generate_text(seed, greedy=True)"
      ],
      "execution_count": 11,
      "outputs": []
    },
    {
      "cell_type": "code",
      "metadata": {
        "id": "--vwpXqo0lA9"
      },
      "source": [
        "def fun_demo_start():\n",
        "  print(\"What's your seed?\")\n",
        "  text_input = input()\n",
        "  return text_input.lower()\n"
      ],
      "execution_count": 12,
      "outputs": []
    },
    {
      "cell_type": "markdown",
      "metadata": {
        "id": "hWE89EOeaxml"
      },
      "source": [
        "## STEP 2 // IT'S DEMO TIME!"
      ]
    },
    {
      "cell_type": "code",
      "metadata": {
        "id": "CsvQyoEg06KQ",
        "outputId": "1b04af64-1f6f-4a01-f300-f49f632a1a28",
        "colab": {
          "base_uri": "https://localhost:8080/"
        }
      },
      "source": [
        "# DEMO FULL SAMPLE / RANDOM & BY GENRE\n",
        "seed = fun_demo_start()\n",
        "generate_n(seed, 5)\n"
      ],
      "execution_count": 13,
      "outputs": [
        {
          "output_type": "stream",
          "text": [
            "What's your seed?\n",
            "students are ready to play\n",
            "ADVENTURE:\n",
            "students are ready to play near and down the monastery . the journalist covers jim help eve marries nick a corrupt female coach living in romania dead he has hired the outside of the world stolen of the imminent girl's\n",
            "FANTASY:\n",
            "students are ready to play within the yellow boat . <end>\n",
            "THRILLER CRIME:\n",
            "students are ready to play right on or better success and was brought any mark that some people kill it . <end>\n",
            "RANDOM:\n",
            "students are ready to play their life's goal . when they explore a new world war one day they discover clues to an odd relationship with the attorney and eventually being sent to devil's springs . steve and the girls'\n",
            "students are ready to play their blood at an underground military college politics . <end>\n",
            "students are ready to play their goal before recorded through the world's part and early music police department to the point of view of drugs rather . <end>\n",
            "students are ready to play the activities and fight . . . written by cummings <end>\n",
            "students are ready to play the sexual device known as the cia service over a survivor 17 bear scheme that allows the two greatest friends to pick up stories . but before it was the prey . . . .\n"
          ],
          "name": "stdout"
        }
      ]
    },
    {
      "cell_type": "code",
      "metadata": {
        "id": "rvVNsp90fkxm",
        "outputId": "be179403-3468-432d-a882-39f20155277f",
        "colab": {
          "base_uri": "https://localhost:8080/"
        }
      },
      "source": [
        "# DEMO WORD BY WORD \"CHOOSE YOUR OWN ADVENTURE\" / RANDOM\n",
        "seed = fun_demo_start()\n",
        "seed, a = model_next(start = True, seed = seed)\n",
        "while a != end:\n",
        "  seed, a =  model_next(start = False, seed = seed)\n",
        "\n",
        "print(Fore.LIGHTBLUE_EX + \"Well done! Here is your story:\")\n",
        "print(seed)"
      ],
      "execution_count": null,
      "outputs": [
        {
          "output_type": "stream",
          "text": [
            "What's your seed?\n",
            "cs230 students are meeting at school today to study\n",
            "\u001b[94m<START> cs230 students are meeting at school today to study\n",
            "\u001b[30mOptions: 1.king , 2.destruction , 3.robots , 4.rush, 5.various \n",
            "\u001b[30mSelect your next word! (input the number)\n",
            "5\n",
            "\u001b[94m<START> cs230 students are meeting at school today to study various\n",
            "\u001b[30mOptions: 1.images , 2.stories , 3.unseen , 4.creatures, 5.college \n",
            "\u001b[30mSelect your next word! (input the number)\n",
            "4\n",
            "\u001b[94m<START> cs230 students are meeting at school today to study various creatures\n",
            "\u001b[30mOptions: 1.she , 2.from , 3.they , 4.in, 5.living \n",
            "\u001b[30mSelect your next word! (input the number)\n",
            "5\n",
            "\u001b[94m<START> cs230 students are meeting at school today to study various creatures living\n",
            "\u001b[30mOptions: 1.from , 2.life , 3.work , 4.large, 5.in \n",
            "\u001b[30mSelect your next word! (input the number)\n",
            "5\n",
            "\u001b[94m<START> cs230 students are meeting at school today to study various creatures living in\n",
            "\u001b[30mOptions: 1.new , 2.a , 3.rio , 4.the, 5.las \n",
            "\u001b[30mSelect your next word! (input the number)\n",
            "3\n",
            "\u001b[94m<START> cs230 students are meeting at school today to study various creatures living in rio\n",
            "\u001b[30mOptions: 1.gone , 2.attacks , 3.james , 4.., 5.although \n",
            "\u001b[30mSelect your next word! (input the number)\n",
            "4\n",
            "\u001b[94m<START> cs230 students are meeting at school today to study various creatures living in rio .\n",
            "\u001b[30mOptions: 1.when , 2.the , 3.now , 4.<end>, 5.but \n",
            "\u001b[30mSelect your next word! (input the number)\n",
            "2\n",
            "\u001b[94m<START> cs230 students are meeting at school today to study various creatures living in rio . the\n",
            "\u001b[30mOptions: 1.machine , 2.boys , 3.pair , 4.trip, 5.film \n",
            "\u001b[30mSelect your next word! (input the number)\n",
            "1\n",
            "\u001b[94m<START> cs230 students are meeting at school today to study various creatures living in rio . the machine\n",
            "\u001b[30mOptions: 1.begins , 2.has , 3.becomes , 4.goes, 5.is \n",
            "\u001b[30mSelect your next word! (input the number)\n",
            "1\n",
            "\u001b[94m<START> cs230 students are meeting at school today to study various creatures living in rio . the machine begins\n",
            "\u001b[30mOptions: 1.at , 2.off , 3.out , 4.as, 5.when \n",
            "\u001b[30mSelect your next word! (input the number)\n",
            "4\n",
            "\u001b[94m<START> cs230 students are meeting at school today to study various creatures living in rio . the machine begins as\n",
            "\u001b[30mOptions: 1.well , 2.their , 3.the , 4.an, 5.a \n",
            "\u001b[30mSelect your next word! (input the number)\n",
            "1\n",
            "\u001b[94m<START> cs230 students are meeting at school today to study various creatures living in rio . the machine begins as well\n",
            "\u001b[30mOptions: 1.by , 2.<end> , 3.and , 4.as, 5.. \n",
            "\u001b[30mSelect your next word! (input the number)\n",
            "5\n",
            "\u001b[94m<START> cs230 students are meeting at school today to study various creatures living in rio . the machine begins as well .\n",
            "\u001b[30mOptions: 1.the , 2.. , 3.and , 4.<end>, 5.as \n",
            "\u001b[30mSelect your next word! (input the number)\n",
            "2\n",
            "\u001b[94m<START> cs230 students are meeting at school today to study various creatures living in rio . the machine begins as well . .\n",
            "\u001b[30mOptions: 1..a , 2.they , 3.the , 4.., 5.<end> \n",
            "\u001b[30mSelect your next word! (input the number)\n",
            "4\n",
            "\u001b[94m<START> cs230 students are meeting at school today to study various creatures living in rio . the machine begins as well . . .\n",
            "\u001b[30mOptions: 1.but , 2.after , 3.as , 4.<end>, 5.. \n",
            "\u001b[30mSelect your next word! (input the number)\n",
            "4\n",
            "\u001b[94mWell done! Here is your story:\n",
            "<START> cs230 students are meeting at school today to study various creatures living in rio . the machine begins as well . . . <end>\n"
          ],
          "name": "stdout"
        }
      ]
    }
  ]
}