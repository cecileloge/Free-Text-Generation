{
  "nbformat": 4,
  "nbformat_minor": 0,
  "metadata": {
    "accelerator": "GPU",
    "colab": {
      "name": "CS230 // Unconditional Language Models (2/2).ipynb",
      "provenance": [],
      "collapsed_sections": [
        "-XuY71GfoOlL",
        "mzVUh3ugx4-7"
      ]
    },
    "kernelspec": {
      "display_name": "Python 3",
      "name": "python3"
    }
  },
  "cells": [
    {
      "cell_type": "markdown",
      "metadata": {
        "id": "vOGCCycHnkW2"
      },
      "source": [
        "# Unconditional Language Models (4.1bis & 4.2)\n",
        "\n",
        "\n",
        "*   STEP 1 TOKENIZE THE DATA\n",
        "*   STEP 2 PREPROCESS INTO SMALLER SEQUENCES FOR TRAINING\n",
        "*   STEP 3 TRAIN BIDIRECTIONAL GRU RNN TO PRODUCE TEXT\n",
        "*   STEP 4 TRAIN CONCATENATED GRU RNN WITH ATTENTION\n",
        "*   STEP 5 EVALUATE RESULTS (BLEU & UNIVERSAL COSINE SIMILARITY)\n",
        "\n"
      ]
    },
    {
      "cell_type": "code",
      "metadata": {
        "id": "yB4k2TbnU5tH",
        "outputId": "71281835-32e2-4f61-ecf1-a29920638e12",
        "colab": {
          "base_uri": "https://localhost:8080/"
        }
      },
      "source": [
        "from google.colab import drive\n",
        "drive.mount(\"/content/drive\")"
      ],
      "execution_count": null,
      "outputs": [
        {
          "output_type": "stream",
          "text": [
            "Mounted at /content/drive\n"
          ],
          "name": "stdout"
        }
      ]
    },
    {
      "cell_type": "markdown",
      "metadata": {
        "id": "-XuY71GfoOlL"
      },
      "source": [
        "## STEP 0 // IMPORT OUR STUFF"
      ]
    },
    {
      "cell_type": "code",
      "metadata": {
        "id": "upxDWxe4VxAu"
      },
      "source": [
        "# !pip install numpy\n",
        "import pandas as pd\n",
        "import numpy as np\n",
        "import ast\n",
        "# visualization\n",
        "import seaborn as sns\n",
        "import matplotlib.pyplot as plt\n",
        "%matplotlib inline\n",
        "\n",
        "from itertools import compress\n",
        "\n",
        "import random\n",
        "import sys\n",
        "import io"
      ],
      "execution_count": null,
      "outputs": []
    },
    {
      "cell_type": "code",
      "metadata": {
        "id": "6zGiy35aw4jb"
      },
      "source": [
        "import tensorflow as tf\n",
        "\n",
        "from tensorflow.keras.models import Model\n",
        "from tensorflow.keras.layers import Input, Dense, Concatenate, Masking, Embedding, Dropout\n",
        "from tensorflow.keras.preprocessing.text import Tokenizer\n",
        "from tensorflow.keras.preprocessing.sequence import pad_sequences\n",
        "from tensorflow.keras.layers import Layer, InputSpec\n",
        "from tensorflow.keras.layers import GRU, LSTM, Bidirectional, Dot, Permute\n",
        "from tensorflow.keras.layers import Conv1D, Activation, Multiply, Flatten, BatchNormalization, Add\n",
        "from tensorflow.keras.losses import CategoricalCrossentropy, SparseCategoricalCrossentropy\n",
        "from tensorflow.keras.callbacks import LambdaCallback, ModelCheckpoint\n",
        "from tensorflow.keras.optimizers import RMSprop, Adam, Adamax\n",
        "from tensorflow.keras import activations\n",
        "\n",
        "from sklearn.model_selection import train_test_split\n",
        "import nltk\n",
        "from nltk.translate.bleu_score import sentence_bleu\n",
        "from nltk.translate.bleu_score import SmoothingFunction"
      ],
      "execution_count": null,
      "outputs": []
    },
    {
      "cell_type": "code",
      "metadata": {
        "id": "ZEgJUkSeVz3Y"
      },
      "source": [
        "data = pd.read_csv('/content/drive/My Drive/CS230/finaldata.csv')\n",
        "train = pd.read_csv('/content/drive/My Drive/CS230/finaldata_train.csv')\n",
        "test = pd.read_csv('/content/drive/My Drive/CS230/finaldata_test.csv')"
      ],
      "execution_count": null,
      "outputs": []
    },
    {
      "cell_type": "code",
      "metadata": {
        "id": "qm8ZuOz2VzcK",
        "outputId": "250b3b7f-1f91-44df-c71d-e0d35e7b77c1",
        "colab": {
          "base_uri": "https://localhost:8080/"
        }
      },
      "source": [
        "pd.set_option('display.max_colwidth', -1)\n",
        "data.head(5).iloc[:, :3]"
      ],
      "execution_count": null,
      "outputs": [
        {
          "output_type": "stream",
          "text": [
            "/usr/local/lib/python3.6/dist-packages/ipykernel_launcher.py:1: FutureWarning: Passing a negative integer is deprecated in version 1.0 and will not be supported in future version. Instead, use None to not limit the column width.\n",
            "  \"\"\"Entry point for launching an IPython kernel.\n"
          ],
          "name": "stderr"
        },
        {
          "output_type": "execute_result",
          "data": {
            "text/html": [
              "<div>\n",
              "<style scoped>\n",
              "    .dataframe tbody tr th:only-of-type {\n",
              "        vertical-align: middle;\n",
              "    }\n",
              "\n",
              "    .dataframe tbody tr th {\n",
              "        vertical-align: top;\n",
              "    }\n",
              "\n",
              "    .dataframe thead th {\n",
              "        text-align: right;\n",
              "    }\n",
              "</style>\n",
              "<table border=\"1\" class=\"dataframe\">\n",
              "  <thead>\n",
              "    <tr style=\"text-align: right;\">\n",
              "      <th></th>\n",
              "      <th>genres</th>\n",
              "      <th>overview</th>\n",
              "      <th>title</th>\n",
              "    </tr>\n",
              "  </thead>\n",
              "  <tbody>\n",
              "    <tr>\n",
              "      <th>0</th>\n",
              "      <td>['animation', 'comedy', 'family']</td>\n",
              "      <td>Led by Woody, Andy's toys live happily in his room until Andy's birthday brings Buzz Lightyear onto the scene. Afraid of losing his place in Andy's heart, Woody plots against Buzz. But when circumstances separate Buzz and Woody from their owner, the duo eventually learns to put aside their differences.</td>\n",
              "      <td>Toy Story</td>\n",
              "    </tr>\n",
              "    <tr>\n",
              "      <th>1</th>\n",
              "      <td>['adventure', 'fantasy', 'family']</td>\n",
              "      <td>When siblings Judy and Peter discover an enchanted board game that opens the door to a magical world, they unwittingly invite Alan -- an adult who's been trapped inside the game for 26 years -- into their living room. Alan's only hope for freedom is to finish the game, which proves risky as all three find themselves running from giant rhinoceroses, evil monkeys and other terrifying creatures.</td>\n",
              "      <td>Jumanji</td>\n",
              "    </tr>\n",
              "    <tr>\n",
              "      <th>2</th>\n",
              "      <td>['romance', 'comedy']</td>\n",
              "      <td>A family wedding reignites the ancient feud between next-door neighbors and fishing buddies John and Max. Meanwhile, a sultry Italian divorcée opens a restaurant at the local bait shop, alarming the locals who worry she'll scare the fish away. But she's less interested in seafood than she is in cooking up a hot time with Max.</td>\n",
              "      <td>Grumpier Old Men</td>\n",
              "    </tr>\n",
              "    <tr>\n",
              "      <th>3</th>\n",
              "      <td>['comedy']</td>\n",
              "      <td>Just when George Banks has recovered from his daughter's wedding, he receives the news that she's pregnant ... and that George's wife, Nina, is expecting too. He was planning on selling their home, but that's a plan that -- like George -- will have to change with the arrival of both a grandchild and a kid of his own.</td>\n",
              "      <td>Father of the Bride Part II</td>\n",
              "    </tr>\n",
              "    <tr>\n",
              "      <th>4</th>\n",
              "      <td>['action', 'crime', 'drama', 'thriller']</td>\n",
              "      <td>Obsessive master thief, Neil McCauley leads a top-notch crew on various insane heists throughout Los Angeles while a mentally unstable detective, Vincent Hanna pursues him without rest. Each man recognizes and respects the ability and the dedication of the other even though they are aware their cat-and-mouse game may end in violence.</td>\n",
              "      <td>Heat</td>\n",
              "    </tr>\n",
              "  </tbody>\n",
              "</table>\n",
              "</div>"
            ],
            "text/plain": [
              "                                     genres  ...                        title\n",
              "0  ['animation', 'comedy', 'family']         ...  Toy Story                  \n",
              "1  ['adventure', 'fantasy', 'family']        ...  Jumanji                    \n",
              "2  ['romance', 'comedy']                     ...  Grumpier Old Men           \n",
              "3  ['comedy']                                ...  Father of the Bride Part II\n",
              "4  ['action', 'crime', 'drama', 'thriller']  ...  Heat                       \n",
              "\n",
              "[5 rows x 3 columns]"
            ]
          },
          "metadata": {
            "tags": []
          },
          "execution_count": 5
        }
      ]
    },
    {
      "cell_type": "code",
      "metadata": {
        "id": "tHIbez-9WM-l",
        "outputId": "c2188370-7cdf-4757-986a-888a1ceb3772",
        "colab": {
          "base_uri": "https://localhost:8080/"
        }
      },
      "source": [
        "# Reminder of the length of the snippets...\n",
        "data['length'].plot(kind='hist', alpha=0.7, color='orange')\n",
        "plt.title('Histogram Snippet Length')\n",
        "\n",
        "plt.show()\n",
        "\n",
        "print('Average Snippet is: ', int(np.mean(data.length)), ' words.')"
      ],
      "execution_count": null,
      "outputs": [
        {
          "output_type": "display_data",
          "data": {
            "image/png": "[encoded data removed]",
            "text/plain": [
              "<Figure size 432x288 with 1 Axes>"
            ]
          },
          "metadata": {
            "tags": [],
            "needs_background": "light"
          }
        },
        {
          "output_type": "stream",
          "text": [
            "Average Snippet is:  48  words.\n"
          ],
          "name": "stdout"
        }
      ]
    },
    {
      "cell_type": "markdown",
      "metadata": {
        "id": "_TBM529kn9pG"
      },
      "source": [
        "## STEP1 // LET'S TOKENIZE THE DATA"
      ]
    },
    {
      "cell_type": "code",
      "metadata": {
        "id": "mK7zJQEuHZGH"
      },
      "source": [
        "data['overview_stop']=['<START> '+a+' <END>' for a in data.overview_stop]\n",
        "train['overview_stop']=['<START> '+a+' <END>' for a in train.overview_stop]\n",
        "test['overview_stop']=['<START> '+a+' <END>' for a in test.overview_stop]"
      ],
      "execution_count": null,
      "outputs": []
    },
    {
      "cell_type": "code",
      "metadata": {
        "id": "OGhzJv7vfoD1"
      },
      "source": [
        "# Tokenizing / Create a Tokenizer object\n",
        "\n",
        "liststrings = list(data.overview_stop)\n",
        "size_dict = 10000\n",
        "tokenizer = Tokenizer(num_words= size_dict+1, \n",
        "                      filters='!\"#$%&()*+,-/:;=?@[\\\\]^_`{|}~\\t\\n', \n",
        "                      split=' ', \n",
        "                      oov_token='<UNK>',\n",
        "                      document_count=0)\n",
        "\n",
        "\n",
        "tokenizer.fit_on_texts(liststrings) \n",
        "seqtokens = tokenizer.texts_to_sequences(liststrings)\n",
        "traintokens = tokenizer.texts_to_sequences(list(train.overview_stop))\n",
        "testtokens = tokenizer.texts_to_sequences(list(test.overview_stop))\n",
        "\n",
        "tokenizer_config = tokenizer.get_config()\n",
        "dict_counts = tokenizer_config['word_counts']\n",
        "dict_index = tokenizer_config['word_index'] "
      ],
      "execution_count": null,
      "outputs": []
    },
    {
      "cell_type": "code",
      "metadata": {
        "id": "hX5g55F2yXtw"
      },
      "source": [
        "tokenizer.sequences_to_texts(seqtokens)[:5] "
      ],
      "execution_count": null,
      "outputs": []
    },
    {
      "cell_type": "code",
      "metadata": {
        "id": "mL58tZAufQPo"
      },
      "source": [
        "sequnk = [[1 if x ==1 else 0 for x in s] for s in seqtokens]\n",
        "count_unk = [np.sum(x) for x in sequnk]\n",
        "freq_unk = [float(np.sum(x)/len(x)) for x in sequnk]"
      ],
      "execution_count": null,
      "outputs": []
    },
    {
      "cell_type": "code",
      "metadata": {
        "id": "qHMy_odgfdaS",
        "outputId": "c9bb05fe-bed3-4afd-f511-6c9c86a82420",
        "colab": {
          "base_uri": "https://localhost:8080/"
        }
      },
      "source": [
        "# Reminder of the length of the snippets...\n",
        "print('Average Number of <UNK>s is: ', np.round(np.mean(count_unk),1))\n",
        "print('Max Number of <UNK>s is: ', np.round(np.max(count_unk),1))\n",
        "\n",
        "print('Average Freq of <UNK>s is: ', np.round(np.mean(freq_unk),3))\n",
        "print('Max Freq of <UNK>s is: ', np.round(np.max(freq_unk),3))"
      ],
      "execution_count": null,
      "outputs": [
        {
          "output_type": "stream",
          "text": [
            "Average Number of <UNK>s is:  2.4\n",
            "Max Number of <UNK>s is:  12\n",
            "Average Freq of <UNK>s is:  0.041\n",
            "Max Freq of <UNK>s is:  0.121\n"
          ],
          "name": "stdout"
        }
      ]
    },
    {
      "cell_type": "code",
      "metadata": {
        "id": "fLC-Jkfo2ed0"
      },
      "source": [
        "lengths = [len(x) for x in seqtokens]\n",
        "maxlen = max(lengths)\n",
        "m = len(seqtokens)"
      ],
      "execution_count": null,
      "outputs": []
    },
    {
      "cell_type": "code",
      "metadata": {
        "id": "9Ij5wJTE0zOn"
      },
      "source": [
        "x = pad_sequences(seqtokens, maxlen=maxlen)"
      ],
      "execution_count": null,
      "outputs": []
    },
    {
      "cell_type": "code",
      "metadata": {
        "id": "kDzX1yyo3add"
      },
      "source": [
        "y = np.array(data[['drama','comedy','thriller','romance','adventure','family']])"
      ],
      "execution_count": null,
      "outputs": []
    },
    {
      "cell_type": "code",
      "metadata": {
        "id": "TLiH0nc03yAX",
        "outputId": "5dbe98b1-4123-47d4-e018-c8b659b15443",
        "colab": {
          "base_uri": "https://localhost:8080/"
        }
      },
      "source": [
        "print(\"x shape: \", x.shape)\n",
        "print(\"y shape: \", y.shape)"
      ],
      "execution_count": null,
      "outputs": [
        {
          "output_type": "stream",
          "text": [
            "x shape:  (20691, 136)\n",
            "y shape:  (20691, 6)\n"
          ],
          "name": "stdout"
        }
      ]
    },
    {
      "cell_type": "code",
      "metadata": {
        "id": "bBGL83TyZMtE"
      },
      "source": [
        "dict_index"
      ],
      "execution_count": null,
      "outputs": []
    },
    {
      "cell_type": "markdown",
      "metadata": {
        "id": "mzVUh3ugx4-7"
      },
      "source": [
        "##STEP2 // PRE-PROCESS INTO SMALLER SEQUENCES"
      ]
    },
    {
      "cell_type": "code",
      "metadata": {
        "id": "-wgKn6LrZ5mP",
        "outputId": "cb99abee-eb5e-43b3-b8ad-baf2aa3bc1fd",
        "colab": {
          "base_uri": "https://localhost:8080/"
        }
      },
      "source": [
        "### WORD-LEVEL LANGUAGE MODEL WITH A FIXED WINDOW ###\n",
        "# Script inspired in parts by the CHAR-LEVEL model: lstm_text_generation.py by fchollet https://github.com/keras-team/keras\n",
        "# Adapted by: ceciloge@stanford.edu\n",
        "\n",
        "# Preprocess the text into smaller sequences of words on one side (window length), and output next word on the other\n",
        "win_len = 10\n",
        "#tokens = list(compress(seqtokens, drama_filter))\n",
        "tokens = traintokens\n",
        "x_rnn = []\n",
        "y_rnn = []\n",
        "\n",
        "for j, text in enumerate(tokens):\n",
        "  if j%5000 == 0: print(\"We're at...\", j)\n",
        "  for i in range(len(text)-win_len):\n",
        "    x_rnn.append(text[i:i+win_len])\n",
        "    y_rnn.append(text[i+win_len])\n",
        "\n",
        "print(\"Total number of smaller sequences: \", len(x_rnn))"
      ],
      "execution_count": null,
      "outputs": [
        {
          "output_type": "stream",
          "text": [
            "We're at... 0\n",
            "We're at... 5000\n",
            "We're at... 10000\n",
            "We're at... 15000\n",
            "We're at... 20000\n",
            "Total number of smaller sequences:  878744\n"
          ],
          "name": "stdout"
        }
      ]
    },
    {
      "cell_type": "code",
      "metadata": {
        "id": "Sqk-mv792NzP",
        "outputId": "904a385a-4830-4e92-d4cc-f2f87c515d21",
        "colab": {
          "base_uri": "https://localhost:8080/"
        }
      },
      "source": [
        "# Turning our sequences into arrays\n",
        "x_rnn_array = np.array([np.array(s) for s in x_rnn])\n",
        "y_rnn_array = np.array([np.array(s) for s in y_rnn])-1\n",
        "print('x Shape: ',x_rnn_array.shape)\n",
        "print('y Shape: ',y_rnn_array.shape)"
      ],
      "execution_count": null,
      "outputs": [
        {
          "output_type": "stream",
          "text": [
            "x Shape:  (878744, 10)\n",
            "y Shape:  (878744,)\n"
          ],
          "name": "stdout"
        }
      ]
    },
    {
      "cell_type": "markdown",
      "metadata": {
        "id": "N_73CJ7MZ6k5"
      },
      "source": [
        "##STEP3 // TRAIN BIDIRECTIONAL GRU RNN TO PRODUCE TEXT"
      ]
    },
    {
      "cell_type": "code",
      "metadata": {
        "id": "txulTMWD4XG1",
        "outputId": "c38330d5-7c99-479a-eabd-feffdb295bc2",
        "colab": {
          "base_uri": "https://localhost:8080/"
        }
      },
      "source": [
        "### RNN LANGUAGE MODEL / NOW BIDIRECTIONAL ###\n",
        "# By: ceciloge@stanford.edu\n",
        "\n",
        "# Input & Embedding\n",
        "seq_input = Input(shape=(win_len,), name = 'miniseq')\n",
        "h = Embedding(size_dict+1, 64, input_length = win_len, mask_zero=True, name = 'embedding')(seq_input)\n",
        "\n",
        "# Two BIDIRECTIONAL GRU Layers\n",
        "h = Bidirectional (GRU(256, name = 'GRU1', return_sequences= True, kernel_initializer = 'glorot_normal'))(h)\n",
        "h = Bidirectional (GRU(256, name = 'GRU2', kernel_initializer = 'glorot_normal'))(h)\n",
        "\n",
        "# Final Dense Layers\n",
        "h = Dense(512, activation = 'relu', name = 'dense1')(h)\n",
        "h = Dense(2560, activation = 'relu', name = 'dense2')(h)\n",
        "next_word = Dense(size_dict, activation='linear', name = 'final')(h)\n",
        "\n",
        "gen_model = Model(inputs = seq_input, outputs = next_word)\n",
        "gen_model.summary()"
      ],
      "execution_count": null,
      "outputs": [
        {
          "output_type": "stream",
          "text": [
            "Model: \"functional_1\"\n",
            "_________________________________________________________________\n",
            "Layer (type)                 Output Shape              Param #   \n",
            "=================================================================\n",
            "miniseq (InputLayer)         [(None, 10)]              0         \n",
            "_________________________________________________________________\n",
            "embedding (Embedding)        (None, 10, 64)            640064    \n",
            "_________________________________________________________________\n",
            "bidirectional (Bidirectional (None, 10, 512)           494592    \n",
            "_________________________________________________________________\n",
            "bidirectional_1 (Bidirection (None, 512)               1182720   \n",
            "_________________________________________________________________\n",
            "dense1 (Dense)               (None, 512)               262656    \n",
            "_________________________________________________________________\n",
            "dense2 (Dense)               (None, 2560)              1313280   \n",
            "_________________________________________________________________\n",
            "final (Dense)                (None, 10000)             25610000  \n",
            "=================================================================\n",
            "Total params: 29,503,312\n",
            "Trainable params: 29,503,312\n",
            "Non-trainable params: 0\n",
            "_________________________________________________________________\n"
          ],
          "name": "stdout"
        }
      ]
    },
    {
      "cell_type": "code",
      "metadata": {
        "id": "KCO5_nAI1wmj"
      },
      "source": [
        "# Functions to produce text with our RNN model\n",
        "\n",
        "every = 5\n",
        "end = tokenizer.texts_to_sequences([['<end>']])[0][0] \n",
        "start = tokenizer.texts_to_sequences([['<start>']])[0][0] \n",
        "dicke = tokenizer.texts_to_sequences([[\"dickens'\"]])[0][0]\n",
        "\n",
        "def sample(preds, greedy = False):\n",
        "  # This first function samples the next word based on the output logits from the model\n",
        "  preds = np.asarray(preds).astype('float64')\n",
        "  #print(preds)\n",
        "  preds[0] = np.min(preds) # Minimize prob of <UNK> from being generated as it is not useful\n",
        "  preds[start-1] = np.min(preds) # Minimize prob of <start> from being generated as it is not useful\n",
        "  preds[dicke-1] = np.min(preds) # Minimize prob of \"dicken'\" from being generated as it is not useful\n",
        "  preds = preds-np.max(preds)\n",
        "  preds = np.exp(preds)\n",
        "  preds = preds/np.sum(preds)\n",
        "  samp = np.random.multinomial(1, preds, 1)\n",
        "  if greedy: \n",
        "    out = max(1, np.argmax(preds))\n",
        "  else: \n",
        "    out = np.argmax(samp)\n",
        "  return out+1\n",
        "\n",
        "def generate_text(epoch, _):\n",
        "  # This second function prints generated text at end of every few epochs\n",
        "  if epoch%every == 0:\n",
        "    print()\n",
        "    input = '<start> when siblings judy and peter discover a board game'\n",
        "    print('Seed: \"' + input + '\"')\n",
        "    output = []\n",
        "    x_in = np.array(tokenizer.texts_to_sequences([input])[0])\n",
        "    i = -1\n",
        "    count = 0\n",
        "    while i != end and count < 35:     \n",
        "      preds = gen_model.predict(x_in.reshape((1,x_in.shape[0])), verbose=0)[0]\n",
        "      i = sample(preds)\n",
        "      x_in = np.append(x_in[1:],i)\n",
        "      output.append(i)\n",
        "      count+=1\n",
        "      \n",
        "    print(input+\" \"+tokenizer.sequences_to_texts([output])[0])\n",
        "\n",
        "# Defining our callbacks:\n",
        "checkpoint = ModelCheckpoint(filepath='model',\n",
        "                             frequency = \"epoch\",\n",
        "                             save_weights_only = True,\n",
        "                             verbose = 0)\n",
        "\n",
        "gen_callback = LambdaCallback(on_epoch_end=generate_text)\n"
      ],
      "execution_count": null,
      "outputs": []
    },
    {
      "cell_type": "code",
      "metadata": {
        "id": "WBy8VJxo8VMP",
        "outputId": "65477964-401e-43a7-f0da-5d6938187e04",
        "colab": {
          "base_uri": "https://localhost:8080/"
        }
      },
      "source": [
        "# Optimizer, Loss & Compiling\n",
        "opt = Adamax(learning_rate=0.001)\n",
        "loss = SparseCategoricalCrossentropy(from_logits=True, name='sparse_cce')\n",
        "gen_model.compile(loss=loss, optimizer=opt)\n",
        "print('Ready!')"
      ],
      "execution_count": null,
      "outputs": [
        {
          "output_type": "stream",
          "text": [
            "Ready!\n"
          ],
          "name": "stdout"
        }
      ]
    },
    {
      "cell_type": "code",
      "metadata": {
        "id": "Kg2ayY64NgpU",
        "outputId": "facc8732-c12e-487f-9dfa-a34c85c9f07f",
        "colab": {
          "base_uri": "https://localhost:8080/"
        }
      },
      "source": [
        "gen_model.load_weights('/content/drive/My Drive/CS230/Models/bidirectional')"
      ],
      "execution_count": null,
      "outputs": [
        {
          "output_type": "execute_result",
          "data": {
            "text/plain": [
              "<tensorflow.python.training.tracking.util.CheckpointLoadStatus at 0x7f574cdca710>"
            ]
          },
          "metadata": {
            "tags": []
          },
          "execution_count": 22
        }
      ]
    },
    {
      "cell_type": "code",
      "metadata": {
        "id": "1ycqkPSz1zPI",
        "outputId": "02a191b2-3be6-4dc1-c10d-34d194db0b76",
        "colab": {
          "base_uri": "https://localhost:8080/"
        }
      },
      "source": [
        "# Let's train!\n",
        "gen_model.fit(x_rnn_array, y_rnn_array,\n",
        "          batch_size=256,\n",
        "          epochs= 5,\n",
        "          callbacks=[gen_callback, checkpoint],\n",
        "          verbose = 1)"
      ],
      "execution_count": null,
      "outputs": [
        {
          "output_type": "stream",
          "text": [
            "Epoch 1/5\n",
            "3432/3433 [============================>.] - ETA: 0s - loss: 0.7622\n",
            "Seed: \"<start> when siblings judy and peter discover a board game\"\n",
            "<start> when siblings judy and peter discover a board game of evidence that suggests that they must resist . goofy lucas and the the living parade give way to monsters their lives to become a covert courier . when they get their father's own life\n",
            "3433/3433 [==============================] - 147s 43ms/step - loss: 0.7622\n",
            "Epoch 2/5\n",
            "3433/3433 [==============================] - 143s 42ms/step - loss: 0.7550\n",
            "Epoch 3/5\n",
            "3433/3433 [==============================] - 145s 42ms/step - loss: 0.7538\n",
            "Epoch 4/5\n",
            "3433/3433 [==============================] - 147s 43ms/step - loss: 0.7479\n",
            "Epoch 5/5\n",
            "3433/3433 [==============================] - 145s 42ms/step - loss: 0.7445\n"
          ],
          "name": "stdout"
        },
        {
          "output_type": "execute_result",
          "data": {
            "text/plain": [
              "<tensorflow.python.keras.callbacks.History at 0x7f5abc6b7390>"
            ]
          },
          "metadata": {
            "tags": []
          },
          "execution_count": 32
        }
      ]
    },
    {
      "cell_type": "code",
      "metadata": {
        "id": "LlnXFSUQYzZx"
      },
      "source": [
        "gen_model.save_weights('/content/drive/My Drive/CS230/Models/bidirectional')"
      ],
      "execution_count": null,
      "outputs": []
    },
    {
      "cell_type": "code",
      "metadata": {
        "id": "34TOc4dQ0hyB",
        "outputId": "92511498-849b-4342-acd6-19d469baaf41",
        "colab": {
          "base_uri": "https://localhost:8080/"
        }
      },
      "source": [
        "gen_model.evaluate(x_rnn_array, y_rnn_array)"
      ],
      "execution_count": null,
      "outputs": [
        {
          "output_type": "stream",
          "text": [
            "27461/27461 [==============================] - 169s 6ms/step - loss: 0.7174\n"
          ],
          "name": "stdout"
        },
        {
          "output_type": "execute_result",
          "data": {
            "text/plain": [
              "0.7174374461174011"
            ]
          },
          "metadata": {
            "tags": []
          },
          "execution_count": 34
        }
      ]
    },
    {
      "cell_type": "code",
      "metadata": {
        "id": "zGXqY_VV854v"
      },
      "source": [
        "# Let's choose several seeds:\n",
        "\n",
        "string_seed0 = 'judy and peter discover a board game that will'\n",
        "string_seed1 = 'CS230 students met a year ago for the'\n",
        "string_seed2 = 'professor andrew is on a mission to' \n",
        "string_seed3 = 'professor andrew goes on an adventure to'\n",
        "string_seed4 = 'CS230 students discover a'\n",
        "string_seed5 = 'a group of friends decides to go out for'\n",
        "\n",
        "def model_generate_text(model = gen_model, seed = string_seed1, length = 100, greedy = False, verbose = True, endtok=True):\n",
        "    # This function generates text from a given seed - works like the callback function.\n",
        "    input = '<START> '+seed\n",
        "    output = []\n",
        "    \n",
        "    x_in = pad_sequences(tokenizer.texts_to_sequences([input]), maxlen=10)\n",
        "\n",
        "    i = -1\n",
        "    count = 0\n",
        "    if endtok == True:\n",
        "      while i != end and count <length:     \n",
        "        preds = model.predict(x_in, verbose=0)[0]\n",
        "        i = sample(preds, greedy=greedy)\n",
        "        x_in = np.append(x_in[:,1:],i).reshape((1,10))\n",
        "        output.append(i)\n",
        "        count +=1\n",
        "    else:\n",
        "      while count <length:     \n",
        "        preds = model.predict(x_in, verbose=0)[0]\n",
        "        i = sample(preds, greedy=greedy)\n",
        "        x_in = np.append(x_in[:,1:],i).reshape((1,10))\n",
        "        output.append(i)\n",
        "        count +=1\n",
        "    if verbose: print(seed+\" \"+tokenizer.sequences_to_texts([output])[0])\n",
        "    return str(seed+\" \"+tokenizer.sequences_to_texts([output])[0]), output"
      ],
      "execution_count": null,
      "outputs": []
    },
    {
      "cell_type": "code",
      "metadata": {
        "id": "Vd0S1dkd_0jP",
        "outputId": "b66c9ad2-116c-453d-9f19-a64b0f78569e",
        "colab": {
          "base_uri": "https://localhost:8080/"
        }
      },
      "source": [
        "# Now let's produce text with our fully trained model: \n",
        "\n",
        "#text0, output0 = model_generate_text(model = gen_model, seed = string_seed0, length = 65, greedy = True)\n",
        "#text0, output0 = model_generate_text(model = gen_model, seed = string_seed0, length = 65, greedy = False)\n",
        "print(20*\"_\"+\" RANDOM \" + 20*\"_\")\n",
        "print(\" \")\n",
        "text1, output1 = model_generate_text(model = gen_model, seed = string_seed1, length = 50)\n",
        "text2, output2 = model_generate_text(model = gen_model, seed = string_seed2, length = 50)\n",
        "text3, output3 = model_generate_text(model = gen_model, seed = string_seed3, length = 50)\n",
        "text4, output4 = model_generate_text(model = gen_model, seed = string_seed4, length = 50)\n",
        "text5, output5 = model_generate_text(model = gen_model, seed = string_seed5, length = 50)\n",
        "print(\" \")\n",
        "print(50*\"_\")\n",
        "print(\" \")\n",
        "text1, output1 = model_generate_text(model = gen_model, seed = string_seed1, length = 50)\n",
        "text2, output2 = model_generate_text(model = gen_model, seed = string_seed2, length = 50)\n",
        "text3, output3 = model_generate_text(model = gen_model, seed = string_seed3, length = 50)\n",
        "text4, output4 = model_generate_text(model = gen_model, seed = string_seed4, length = 50)\n",
        "text5, output5 = model_generate_text(model = gen_model, seed = string_seed5, length = 50)\n",
        "print(\" \")\n",
        "print(20*\"_\"+\" GREEDY \" + 20*\"_\")\n",
        "print(\" \")\n",
        "text6, output6 = model_generate_text(model = gen_model, seed = string_seed1, length = 50, greedy = True)\n",
        "text7, output7 = model_generate_text(model = gen_model, seed = string_seed2, length = 50, greedy = True)\n",
        "text8, output8 = model_generate_text(model = gen_model, seed = string_seed3, length = 50, greedy = True)\n",
        "text9, output9 = model_generate_text(model = gen_model, seed = string_seed4, length = 50, greedy = True)\n",
        "text10, output10 = model_generate_text(model = gen_model, seed = string_seed5, length = 50, greedy = True)\n",
        "print(\" \")\n"
      ],
      "execution_count": null,
      "outputs": [
        {
          "output_type": "stream",
          "text": [
            "____________________ RANDOM ____________________\n",
            " \n",
            "CS230 students met a year ago for the first time . <end>\n",
            "professor andrew is on a mission to find love and murder with every room beautiful ashley brown . as tom tries to balance the night with her fiancé she has been violently after all . ultimately it is all the first time to pass orders to sell them into the zoo to infiltrate the crew hot on\n",
            "professor andrew goes on an adventure to the top of the ordinary . <end>\n",
            "CS230 students discover a dark conspiracy behind an explosion with a mysterious past despite a mad array of programming . <end>\n",
            "a group of friends decides to go out for a role that will prove her business succeeds in the passage of his family his zoo florence is confronted with jack taylor who gets thrust into the world even if the clouds government overdose all have been fired . trying on ice makes a surprising face with a beautiful celebrity\n",
            " \n",
            "__________________________________________________\n",
            " \n",
            "CS230 students met a year ago for the first time . <end>\n",
            "professor andrew is on a mission to find their love for his own kidnapping experiences . in her journey home for destroying the village in british columbia . <end>\n",
            "professor andrew goes on an adventure to the last official jimmy promises to win the heart of the robbery . <end>\n",
            "CS230 students discover a cache of tactics and growing up fires in why decline are unlikely she loved . <end>\n",
            "a group of friends decides to go out for a certain mature plan an old abandoned love goes horribly too wrong . <end>\n",
            " \n",
            "____________________ GREEDY ____________________\n",
            " \n",
            "CS230 students met a year ago for the first time . <end>\n",
            "professor andrew is on a mission to find their love for his own kidnapping rather than live . <end>\n",
            "professor andrew goes on an adventure to the real world has ever imagined <end>\n",
            "CS230 students discover a cache of tactics about a violent and exciting story that also happened to him and his life . <end>\n",
            "a group of friends decides to go out for a date . <end>\n",
            " \n"
          ],
          "name": "stdout"
        }
      ]
    },
    {
      "cell_type": "markdown",
      "metadata": {
        "id": "q6t-V-bi3_YE"
      },
      "source": [
        "##STEP 4 // TRAIN CONCATENATED GRU RNN WITH ATTENTION"
      ]
    },
    {
      "cell_type": "code",
      "metadata": {
        "id": "NfB_V8Ih7vVA",
        "outputId": "fa09f660-291f-43c5-f95f-934841cf3be5",
        "colab": {
          "base_uri": "https://localhost:8080/"
        }
      },
      "source": [
        "### RNN LANGUAGE MODEL / WITH ATTENTION ###\n",
        "# By: ceciloge@stanford.edu\n",
        "\n",
        "# Input & Embedding\n",
        "seq_input = Input(shape=(win_len,), name = 'miniseq')\n",
        "h1 = Embedding(size_dict+1, 64, input_length = win_len, mask_zero=True, name = 'embedding')(seq_input)\n",
        "\n",
        "# Two GRU Layers\n",
        "h2 = GRU(256, name = 'GRU1', return_sequences= True, kernel_initializer = 'glorot_normal')(h1)\n",
        "h3 = GRU(256, name = 'GRU2', return_sequences= True, kernel_initializer = 'glorot_normal')(h2)\n",
        "\n",
        "# Concatenate both GRU Layer Outputs\n",
        "h4 = Concatenate()([h1,h2,h3])\n",
        "\n",
        "# Attention done in several steps\n",
        "a = Dense(1, use_bias=False, activation='linear')(h4)\n",
        "a = Permute((2, 1))(a)\n",
        "a = Flatten()(a)\n",
        "a = Activation('softmax')(a)\n",
        "h = Dot(axes = [1,1])([a,h3])\n",
        "\n",
        "\n",
        "# Final Dense Layers\n",
        "h = Dense(512, activation = 'relu', name = 'dense1', kernel_initializer = 'he_normal')(h)\n",
        "h = Dense(2560, activation = 'relu', name = 'dense2', kernel_initializer = 'he_normal')(h)\n",
        "next_word = Dense(size_dict, activation='linear', name = 'final')(h)\n",
        "\n",
        "\n",
        "gen_model2 = Model(inputs = seq_input, outputs = next_word)\n",
        "gen_model2.summary()"
      ],
      "execution_count": null,
      "outputs": [
        {
          "output_type": "stream",
          "text": [
            "Model: \"functional_3\"\n",
            "__________________________________________________________________________________________________\n",
            "Layer (type)                    Output Shape         Param #     Connected to                     \n",
            "==================================================================================================\n",
            "miniseq (InputLayer)            [(None, 10)]         0                                            \n",
            "__________________________________________________________________________________________________\n",
            "embedding (Embedding)           (None, 10, 64)       640064      miniseq[0][0]                    \n",
            "__________________________________________________________________________________________________\n",
            "GRU1 (GRU)                      (None, 10, 256)      247296      embedding[0][0]                  \n",
            "__________________________________________________________________________________________________\n",
            "GRU2 (GRU)                      (None, 10, 256)      394752      GRU1[0][0]                       \n",
            "__________________________________________________________________________________________________\n",
            "concatenate (Concatenate)       (None, 10, 576)      0           embedding[0][0]                  \n",
            "                                                                 GRU1[0][0]                       \n",
            "                                                                 GRU2[0][0]                       \n",
            "__________________________________________________________________________________________________\n",
            "dense (Dense)                   (None, 10, 1)        576         concatenate[0][0]                \n",
            "__________________________________________________________________________________________________\n",
            "permute (Permute)               (None, 1, 10)        0           dense[0][0]                      \n",
            "__________________________________________________________________________________________________\n",
            "flatten (Flatten)               (None, 10)           0           permute[0][0]                    \n",
            "__________________________________________________________________________________________________\n",
            "activation (Activation)         (None, 10)           0           flatten[0][0]                    \n",
            "__________________________________________________________________________________________________\n",
            "dot (Dot)                       (None, 256)          0           activation[0][0]                 \n",
            "                                                                 GRU2[0][0]                       \n",
            "__________________________________________________________________________________________________\n",
            "dense1 (Dense)                  (None, 512)          131584      dot[0][0]                        \n",
            "__________________________________________________________________________________________________\n",
            "dense2 (Dense)                  (None, 2560)         1313280     dense1[0][0]                     \n",
            "__________________________________________________________________________________________________\n",
            "final (Dense)                   (None, 10000)        25610000    dense2[0][0]                     \n",
            "==================================================================================================\n",
            "Total params: 28,337,552\n",
            "Trainable params: 28,337,552\n",
            "Non-trainable params: 0\n",
            "__________________________________________________________________________________________________\n"
          ],
          "name": "stdout"
        }
      ]
    },
    {
      "cell_type": "code",
      "metadata": {
        "id": "CJLbBq4WReXd"
      },
      "source": [
        "# Functions to produce text with our Attention RNN\n",
        "\n",
        "every = 5\n",
        "\n",
        "def generate_text2(epoch, _):\n",
        "  # This second function prints generated text at end of every few epochs\n",
        "  if epoch%every == 0:\n",
        "    print()\n",
        "    input = 'when siblings judy and peter discover a board game that'\n",
        "    print('Seed: \"' + input + '\"')\n",
        "    output = []\n",
        "    x_in = np.array(tokenizer.texts_to_sequences([input])[0])\n",
        "    i = -1\n",
        "    count = 0\n",
        "    while i != end and count < 35:     \n",
        "      preds = gen_model2.predict(x_in.reshape((1,x_in.shape[0])), verbose=0)[0]\n",
        "      i = sample(preds)\n",
        "      x_in = np.append(x_in[1:],i)\n",
        "      output.append(i)\n",
        "      count+=1\n",
        "    print(input+\" \"+tokenizer.sequences_to_texts([output])[0])\n",
        "\n",
        "\n",
        "# Defining our callbacks - reusing code from previous model:\n",
        "checkpoint2 = ModelCheckpoint(filepath='model2',\n",
        "                             frequency = \"epoch\",\n",
        "                             save_weights_only = True,\n",
        "                             verbose = 0)\n",
        "\n",
        "gen_callback2 = LambdaCallback(on_epoch_end=generate_text2)"
      ],
      "execution_count": null,
      "outputs": []
    },
    {
      "cell_type": "code",
      "metadata": {
        "id": "n9TN3TPK8PYO",
        "outputId": "5a0f7396-b250-4603-9806-e56b745e731b",
        "colab": {
          "base_uri": "https://localhost:8080/"
        }
      },
      "source": [
        "opt = Adamax(learning_rate=0.00000001)\n",
        "loss = SparseCategoricalCrossentropy(from_logits=True, name='sparse_cce')\n",
        "gen_model2.compile(loss=loss, optimizer=opt)\n",
        "print('Ready!')"
      ],
      "execution_count": null,
      "outputs": [
        {
          "output_type": "stream",
          "text": [
            "Ready!\n"
          ],
          "name": "stdout"
        }
      ]
    },
    {
      "cell_type": "code",
      "metadata": {
        "id": "btjpFd9iY5aR",
        "outputId": "a6df8641-e44e-4a8c-8ba0-f03c64e9709f",
        "colab": {
          "base_uri": "https://localhost:8080/"
        }
      },
      "source": [
        "gen_model2.load_weights('/content/drive/My Drive/CS230/Models/attention')"
      ],
      "execution_count": null,
      "outputs": [
        {
          "output_type": "execute_result",
          "data": {
            "text/plain": [
              "<tensorflow.python.training.tracking.util.CheckpointLoadStatus at 0x7f574cde2f60>"
            ]
          },
          "metadata": {
            "tags": []
          },
          "execution_count": 27
        }
      ]
    },
    {
      "cell_type": "code",
      "metadata": {
        "id": "aoQNLijn8YIA"
      },
      "source": [
        "#Let's train!\n",
        "gen_model2.fit(x_rnn_array, y_rnn_array,\n",
        "          batch_size=256,\n",
        "          epochs=15,\n",
        "          callbacks=[gen_callback2, checkpoint2])"
      ],
      "execution_count": null,
      "outputs": []
    },
    {
      "cell_type": "code",
      "metadata": {
        "id": "7NAlPdi3avnM"
      },
      "source": [
        "gen_model2.save_weights('/content/drive/My Drive/CS230/Models/attention')"
      ],
      "execution_count": null,
      "outputs": []
    },
    {
      "cell_type": "code",
      "metadata": {
        "id": "q_4Iq1dsweyk",
        "outputId": "fe963acb-d48f-4394-812c-567bd0a786ec",
        "colab": {
          "base_uri": "https://localhost:8080/"
        }
      },
      "source": [
        "gen_model2.evaluate(x_rnn_array, y_rnn_array)"
      ],
      "execution_count": null,
      "outputs": [
        {
          "output_type": "stream",
          "text": [
            "27461/27461 [==============================] - 134s 5ms/step - loss: 0.9059\n"
          ],
          "name": "stdout"
        },
        {
          "output_type": "execute_result",
          "data": {
            "text/plain": [
              "0.9059416055679321"
            ]
          },
          "metadata": {
            "tags": []
          },
          "execution_count": 28
        }
      ]
    },
    {
      "cell_type": "code",
      "metadata": {
        "id": "lYsMM6PmdO8w",
        "outputId": "5c6ff141-cdf8-4fdf-ac91-c2c0280abf15",
        "colab": {
          "base_uri": "https://localhost:8080/"
        }
      },
      "source": [
        "# Now let's produce text with our fully trained model:2  \n",
        "\n",
        "print(20*\"_\"+\" RANDOM \" + 20*\"_\")\n",
        "print(\" \")\n",
        "text1, output1 = model_generate_text(model = gen_model2, seed = string_seed1, length = 50)\n",
        "text2, output2 = model_generate_text(model = gen_model2, seed = string_seed2, length = 50)\n",
        "text3, output3 = model_generate_text(model = gen_model2, seed = string_seed3, length = 50)\n",
        "text4, output4 = model_generate_text(model = gen_model2, seed = string_seed4, length = 50)\n",
        "text5, output5 = model_generate_text(model = gen_model2, seed = string_seed5, length = 50)\n",
        "print(\" \")\n",
        "print(50*\"_\")\n",
        "print(\" \")\n",
        "text1, output1 = model_generate_text(model = gen_model2, seed = string_seed1, length = 50)\n",
        "text2, output2 = model_generate_text(model = gen_model2, seed = string_seed2, length = 50)\n",
        "text3, output3 = model_generate_text(model = gen_model2, seed = string_seed3, length = 50)\n",
        "text4, output4 = model_generate_text(model = gen_model2, seed = string_seed4, length = 50)\n",
        "text5, output5 = model_generate_text(model = gen_model2, seed = string_seed5, length = 50)\n",
        "print(\" \")\n",
        "print(50*\"_\")\n",
        "print(\" \")\n",
        "print(20*\"_\"+\" GREEDY \" + 20*\"_\")\n",
        "print(\" \")\n",
        "text6, output6 = model_generate_text(model = gen_model2, seed = string_seed1, length = 50, greedy = True)\n",
        "text7, output7 = model_generate_text(model = gen_model2, seed = string_seed2, length = 50, greedy = True)\n",
        "text8, output8 = model_generate_text(model = gen_model2, seed = string_seed3, length = 50, greedy = True)\n",
        "text9, output9 = model_generate_text(model = gen_model2, seed = string_seed4, length = 50, greedy = True)\n",
        "text10, output10 = model_generate_text(model = gen_model2, seed = string_seed5, length = 50, greedy = True)\n",
        "print(\" \")\n"
      ],
      "execution_count": null,
      "outputs": [
        {
          "output_type": "stream",
          "text": [
            "____________________ RANDOM ____________________\n",
            " \n",
            "CS230 students met a year ago for the perfect event . soon after they arrive we meet may come they have an her quest to discover the truth about the death of her mother . <end>\n",
            "professor andrew is on a mission to individual strip dropping a great career with back out all life to the spine but only he can get himself close behind by the uncle's version of ireland she is befriended by the volatile sir jim parent emma our only key point for killer rather bizarre thief maya and old\n",
            "professor andrew goes on an adventure to theme camp after a car accident . his former wife is linda the only person to trust her plan to be ex boys . social problems start nowhere he needs to kill seeing him that he and his next time protégé bruce make life in her one set for its\n",
            "CS230 students discover a sooner rapidly damaged ninja drive for a . enter closest and attempts to fix ecstasy engaging in a self destructive story involving money and frank and his crazy american sidekick in the british hills . <end>\n",
            "a group of friends decides to go out for their hotel to argentina come true . <end>\n",
            " \n",
            "__________________________________________________\n",
            " \n",
            "CS230 students met a year ago for the play talks that there is enough for a good ride from home on board . but can tommy make something more trouble he's blows out on his partners to pursue it together . <end>\n",
            "professor andrew is on a mission to writing action as the aristocratic kid follows him . actually evading the will she makes a pact with a no holds answers for these and dangerous supernatural creatures in order to save themselves their drinking particularly their love holidays from a truly striking up . the park fathers on both\n",
            "professor andrew goes on an adventure to 90 wonder about the murder and work of screenwriter block and his sexy young son and grandfather . the pair are forced into a newly unlikely pursuit that will save their entire lives . <end>\n",
            "CS230 students discover a script 5 protector drunken knowledge of a coffin and friends then train the internet to a hit plot which will escape his previous and in the process . through a bite they gradually split of humanity in the same situation . <end>\n",
            "a group of friends decides to go out for their land before outer space . but other twists are . . <end>\n",
            " \n",
            "__________________________________________________\n",
            " \n",
            "____________________ GREEDY ____________________\n",
            " \n",
            "CS230 students met a year ago for the perfect plan feeding them right beyond each new unexpected ways . <end>\n",
            "professor andrew is on a mission to heavily southern factories in the united states . <end>\n",
            "professor andrew goes on an adventure to talent on it and threaten to find someone who was trying to kill him vicious black 11 gay people . <end>\n",
            "CS230 students discover a casino rapidly damaged racing in a north african national congress . traces the couple to third through 4 years long by some of them disappear . <end>\n",
            "a group of friends decides to go out for their land . luckily he is coming up to find that of the ordinary owner of the war ocean line once again . <end>\n",
            " \n"
          ],
          "name": "stdout"
        }
      ]
    },
    {
      "cell_type": "markdown",
      "metadata": {
        "id": "GuQT8wd2SQzo"
      },
      "source": [
        "## STEP 4 // EVALUATE RESULTS"
      ]
    },
    {
      "cell_type": "code",
      "metadata": {
        "id": "ylPZWpwlTeF1"
      },
      "source": [
        "import tensorflow_hub as hub\n",
        "univ_embed = hub.load(\"https://tfhub.dev/google/universal-sentence-encoder/4\")"
      ],
      "execution_count": null,
      "outputs": []
    },
    {
      "cell_type": "code",
      "metadata": {
        "id": "-8-osxCTZy_L"
      },
      "source": [
        "# EVALUATE BLEU & COSINE SIMILARITY ON THE TEST SET\n",
        "\n",
        "def cosine_sim(x,y):\n",
        "    num = np.sum(x*y)\n",
        "    den = np.sqrt(np.sum(x**2))*np.sqrt(np.sum(y**2))\n",
        "    return num/float(den)\n",
        "\n",
        "def evaluate_gen(version, greedy = True):\n",
        "  bleu = []\n",
        "  sim = []\n",
        "  fun = model_generate_text\n",
        "  if version == 1: \n",
        "    model = gen_model\n",
        "  else:\n",
        "    model = gen_model2   \n",
        "  \n",
        "  for j, synopsis in enumerate(testtokens):\n",
        "    #From test set:\n",
        "    input = tokenizer.sequences_to_texts([synopsis[:10]])[0]\n",
        "    output_test = synopsis[10:]\n",
        "    output_test_string = tokenizer.sequences_to_texts([output_test])[0]\n",
        "    output_test_list = [tokenizer.sequences_to_texts([[i]])[0] for i in output_test]\n",
        "    emb_test = univ_embed([output_test_string])\n",
        "    l = len(synopsis)-10\n",
        "\n",
        "\n",
        "    #From model:\n",
        "    _, output = fun(model = model, seed = input, length = l, greedy = greedy, verbose = False, endtok = False)\n",
        "    output_string = tokenizer.sequences_to_texts([output])[0]\n",
        "    output_list = [tokenizer.sequences_to_texts([[i]])[0] for i in output]\n",
        "    emb = univ_embed([output_string])\n",
        "    #Similarity Scores:\n",
        "    b = sentence_bleu([output_test_list], output_list, smoothing_function=SmoothingFunction().method2)\n",
        "    s = cosine_sim(emb, emb_test)\n",
        "\n",
        "    if j%100 == 0: \n",
        "      print(j, \" done!\")\n",
        "      #print(\"bleu: \", b)\n",
        "      #print(\"sim: \", s)\n",
        "\n",
        "    bleu.append(b)\n",
        "    sim.append(s)\n",
        "  \n",
        "  bleu_score = np.mean(bleu)\n",
        "  sim_score = np.mean(sim)\n",
        "  #print(\"BLEU: \", bleu_score)\n",
        "  #print(\"COS. SIMILARITY: \", sim_score)\n",
        "  return bleu_score, sim_score"
      ],
      "execution_count": null,
      "outputs": []
    },
    {
      "cell_type": "code",
      "metadata": {
        "id": "2TsBUNBiHPc_",
        "outputId": "fb7f0902-c70f-4726-c53c-ac710d4d4aaa",
        "colab": {
          "base_uri": "https://localhost:8080/"
        }
      },
      "source": [
        "print(\"RNN Bid. Performance:\")\n",
        "bleu_score_RNN, sim_score_RNN = evaluate_gen(1)\n",
        "\n",
        "print(\"----------- RNN Bid. Performance -----------\")\n",
        "print(\"BLEU: \", np.round(bleu_score_RNN,4))\n",
        "print(\"COS. SIMILARITY: \", np.round(sim_score_RNN,4))\n",
        "print(\" \")\n"
      ],
      "execution_count": null,
      "outputs": [
        {
          "output_type": "stream",
          "text": [
            "RNN Bid. Performance:\n",
            "----------- RNN Bid. Performance -----------\n",
            "BLEU:  0.0663\n",
            "COS. SIMILARITY:  0.2482\n",
            " \n"
          ],
          "name": "stdout"
        }
      ]
    },
    {
      "cell_type": "code",
      "metadata": {
        "id": "pb06A4DIaxSc",
        "outputId": "133de10b-5aaf-428c-b01b-b958cdf6d850",
        "colab": {
          "base_uri": "https://localhost:8080/"
        }
      },
      "source": [
        "print(\"Attention Performance:\")\n",
        "bleu_score_att, sim_score_att = evaluate_gen(2)\n",
        "\n",
        "print(\"-------- Attention Performance --------\")\n",
        "print(\"BLEU: \", np.round(bleu_score_att,4))\n",
        "print(\"COS. SIMILARITY: \", np.round(sim_score_att,4))"
      ],
      "execution_count": null,
      "outputs": [
        {
          "output_type": "stream",
          "text": [
            "Attention Performance:\n",
            "-------- Attention Performance --------\n",
            "BLEU:  0.0646\n",
            "COS. SIMILARITY:  0.2425\n"
          ],
          "name": "stdout"
        }
      ]
    }
  ]
}
