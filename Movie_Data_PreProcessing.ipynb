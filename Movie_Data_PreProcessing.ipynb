{
  "nbformat": 4,
  "nbformat_minor": 0,
  "metadata": {
    "colab": {
      "name": "CS 230 // Movie Data Pre-Processing.ipynb",
      "provenance": [],
      "collapsed_sections": [],
      "authorship_tag": "ABX9TyMvjaxTtYKONyTwoa1FHJAY"
    },
    "kernelspec": {
      "name": "python3",
      "display_name": "Python 3"
    }
  },
  "cells": [
    {
      "cell_type": "markdown",
      "metadata": {
        "id": "_vRusREfkOWN"
      },
      "source": [
        "# Movie Data Pre-Processing\n",
        "\n",
        "\n",
        "*   STEP 1 QUICK EXPLORATION & FIRST CLEANING\n",
        "*   STEP 2 DATA PROCESSING"
      ]
    },
    {
      "cell_type": "code",
      "metadata": {
        "id": "V0yHW83Y8aC8",
        "outputId": "a2d1c953-3e95-4e8c-ae88-b0bf8dd2afce",
        "colab": {
          "base_uri": "https://localhost:8080/"
        }
      },
      "source": [
        "from google.colab import drive\n",
        "drive.mount(\"/content/drive\")\n"
      ],
      "execution_count": null,
      "outputs": [
        {
          "output_type": "stream",
          "text": [
            "Mounted at /content/drive\n"
          ],
          "name": "stdout"
        }
      ]
    },
    {
      "cell_type": "markdown",
      "metadata": {
        "id": "9KnzDqAFj5nR"
      },
      "source": [
        "## STEP 1 // QUICK EXPLORATION & FIRST CLEANING"
      ]
    },
    {
      "cell_type": "code",
      "metadata": {
        "id": "HLaSk6Bi-pau"
      },
      "source": [
        "import pandas as pd\n",
        "import numpy as np\n",
        "import ast\n",
        "# visualization\n",
        "import seaborn as sns\n",
        "import matplotlib.pyplot as plt\n",
        "%matplotlib inline"
      ],
      "execution_count": null,
      "outputs": []
    },
    {
      "cell_type": "code",
      "metadata": {
        "id": "jw6E8mrk8ge4",
        "outputId": "21aed256-85b0-41b2-ce80-fdc33add0e27",
        "colab": {
          "base_uri": "https://localhost:8080/"
        }
      },
      "source": [
        "data = pd.read_csv('/content/drive/My Drive/CS230/Datasets/movies_metadata.csv')"
      ],
      "execution_count": null,
      "outputs": [
        {
          "output_type": "stream",
          "text": [
            "/usr/local/lib/python3.6/dist-packages/IPython/core/interactiveshell.py:2718: DtypeWarning: Columns (10) have mixed types.Specify dtype option on import or set low_memory=False.\n",
            "  interactivity=interactivity, compiler=compiler, result=result)\n"
          ],
          "name": "stderr"
        }
      ]
    },
    {
      "cell_type": "code",
      "metadata": {
        "id": "D058S5cClEG6",
        "outputId": "e9adb530-2647-4882-fdf9-0aecd92caf22",
        "colab": {
          "base_uri": "https://localhost:8080/",
          "height": 185
        }
      },
      "source": [
        "data.head(1)"
      ],
      "execution_count": null,
      "outputs": [
        {
          "output_type": "execute_result",
          "data": {
            "text/html": [
              "<div>\n",
              "<style scoped>\n",
              "    .dataframe tbody tr th:only-of-type {\n",
              "        vertical-align: middle;\n",
              "    }\n",
              "\n",
              "    .dataframe tbody tr th {\n",
              "        vertical-align: top;\n",
              "    }\n",
              "\n",
              "    .dataframe thead th {\n",
              "        text-align: right;\n",
              "    }\n",
              "</style>\n",
              "<table border=\"1\" class=\"dataframe\">\n",
              "  <thead>\n",
              "    <tr style=\"text-align: right;\">\n",
              "      <th></th>\n",
              "      <th>adult</th>\n",
              "      <th>belongs_to_collection</th>\n",
              "      <th>budget</th>\n",
              "      <th>genres</th>\n",
              "      <th>homepage</th>\n",
              "      <th>id</th>\n",
              "      <th>imdb_id</th>\n",
              "      <th>original_language</th>\n",
              "      <th>original_title</th>\n",
              "      <th>overview</th>\n",
              "      <th>popularity</th>\n",
              "      <th>poster_path</th>\n",
              "      <th>production_companies</th>\n",
              "      <th>production_countries</th>\n",
              "      <th>release_date</th>\n",
              "      <th>revenue</th>\n",
              "      <th>runtime</th>\n",
              "      <th>spoken_languages</th>\n",
              "      <th>status</th>\n",
              "      <th>tagline</th>\n",
              "      <th>title</th>\n",
              "      <th>video</th>\n",
              "      <th>vote_average</th>\n",
              "      <th>vote_count</th>\n",
              "    </tr>\n",
              "  </thead>\n",
              "  <tbody>\n",
              "    <tr>\n",
              "      <th>0</th>\n",
              "      <td>False</td>\n",
              "      <td>{'id': 10194, 'name': 'Toy Story Collection', ...</td>\n",
              "      <td>30000000</td>\n",
              "      <td>[{'id': 16, 'name': 'Animation'}, {'id': 35, '...</td>\n",
              "      <td>http://toystory.disney.com/toy-story</td>\n",
              "      <td>862</td>\n",
              "      <td>tt0114709</td>\n",
              "      <td>en</td>\n",
              "      <td>Toy Story</td>\n",
              "      <td>Led by Woody, Andy's toys live happily in his ...</td>\n",
              "      <td>21.9469</td>\n",
              "      <td>/rhIRbceoE9lR4veEXuwCC2wARtG.jpg</td>\n",
              "      <td>[{'name': 'Pixar Animation Studios', 'id': 3}]</td>\n",
              "      <td>[{'iso_3166_1': 'US', 'name': 'United States o...</td>\n",
              "      <td>1995-10-30</td>\n",
              "      <td>373554033.0</td>\n",
              "      <td>81.0</td>\n",
              "      <td>[{'iso_639_1': 'en', 'name': 'English'}]</td>\n",
              "      <td>Released</td>\n",
              "      <td>NaN</td>\n",
              "      <td>Toy Story</td>\n",
              "      <td>False</td>\n",
              "      <td>7.7</td>\n",
              "      <td>5415.0</td>\n",
              "    </tr>\n",
              "  </tbody>\n",
              "</table>\n",
              "</div>"
            ],
            "text/plain": [
              "   adult  ... vote_count\n",
              "0  False  ...     5415.0\n",
              "\n",
              "[1 rows x 24 columns]"
            ]
          },
          "metadata": {
            "tags": []
          },
          "execution_count": 4
        }
      ]
    },
    {
      "cell_type": "code",
      "metadata": {
        "id": "9Nw-tn0SlKGa",
        "outputId": "9b003b28-1c5f-4a92-d6d1-b92e43617da8",
        "colab": {
          "base_uri": "https://localhost:8080/"
        }
      },
      "source": [
        "print(\"Length: \", len(data.id))"
      ],
      "execution_count": null,
      "outputs": [
        {
          "output_type": "stream",
          "text": [
            "Length:  45466\n"
          ],
          "name": "stdout"
        }
      ]
    },
    {
      "cell_type": "code",
      "metadata": {
        "id": "I-1lzPL1Ivks"
      },
      "source": [
        "data = data[data.adult == 'False']\n",
        "data['overview'] = data['overview'].fillna(\"No\")\n",
        "data = data[data.overview != \"No\"]\n",
        "data = data[data.original_language == \"en\"]"
      ],
      "execution_count": null,
      "outputs": []
    },
    {
      "cell_type": "code",
      "metadata": {
        "id": "R9gzT9j1KqMO",
        "outputId": "195d47bb-5cc4-4811-de87-83adc44a4b86",
        "colab": {
          "base_uri": "https://localhost:8080/",
          "height": 145
        }
      },
      "source": [
        "data = data.drop(['adult', 'belongs_to_collection', 'homepage', 'id', 'imdb_id', 'original_language', 'original_title','production_companies', 'production_countries' ], axis = 1)\n",
        "data = data.drop(['release_date', 'runtime', 'spoken_languages', 'status', 'video' ], axis = 1)\n",
        "data = data.drop(['revenue', 'budget'], axis = 1)\n",
        "data.head(2)"
      ],
      "execution_count": null,
      "outputs": [
        {
          "output_type": "execute_result",
          "data": {
            "text/html": [
              "<div>\n",
              "<style scoped>\n",
              "    .dataframe tbody tr th:only-of-type {\n",
              "        vertical-align: middle;\n",
              "    }\n",
              "\n",
              "    .dataframe tbody tr th {\n",
              "        vertical-align: top;\n",
              "    }\n",
              "\n",
              "    .dataframe thead th {\n",
              "        text-align: right;\n",
              "    }\n",
              "</style>\n",
              "<table border=\"1\" class=\"dataframe\">\n",
              "  <thead>\n",
              "    <tr style=\"text-align: right;\">\n",
              "      <th></th>\n",
              "      <th>genres</th>\n",
              "      <th>overview</th>\n",
              "      <th>popularity</th>\n",
              "      <th>poster_path</th>\n",
              "      <th>tagline</th>\n",
              "      <th>title</th>\n",
              "      <th>vote_average</th>\n",
              "      <th>vote_count</th>\n",
              "    </tr>\n",
              "  </thead>\n",
              "  <tbody>\n",
              "    <tr>\n",
              "      <th>0</th>\n",
              "      <td>[{'id': 16, 'name': 'Animation'}, {'id': 35, '...</td>\n",
              "      <td>Led by Woody, Andy's toys live happily in his ...</td>\n",
              "      <td>21.9469</td>\n",
              "      <td>/rhIRbceoE9lR4veEXuwCC2wARtG.jpg</td>\n",
              "      <td>NaN</td>\n",
              "      <td>Toy Story</td>\n",
              "      <td>7.7</td>\n",
              "      <td>5415.0</td>\n",
              "    </tr>\n",
              "    <tr>\n",
              "      <th>1</th>\n",
              "      <td>[{'id': 12, 'name': 'Adventure'}, {'id': 14, '...</td>\n",
              "      <td>When siblings Judy and Peter discover an encha...</td>\n",
              "      <td>17.0155</td>\n",
              "      <td>/vzmL6fP7aPKNKPRTFnZmiUfciyV.jpg</td>\n",
              "      <td>Roll the dice and unleash the excitement!</td>\n",
              "      <td>Jumanji</td>\n",
              "      <td>6.9</td>\n",
              "      <td>2413.0</td>\n",
              "    </tr>\n",
              "  </tbody>\n",
              "</table>\n",
              "</div>"
            ],
            "text/plain": [
              "                                              genres  ... vote_count\n",
              "0  [{'id': 16, 'name': 'Animation'}, {'id': 35, '...  ...     5415.0\n",
              "1  [{'id': 12, 'name': 'Adventure'}, {'id': 14, '...  ...     2413.0\n",
              "\n",
              "[2 rows x 8 columns]"
            ]
          },
          "metadata": {
            "tags": []
          },
          "execution_count": 7
        }
      ]
    },
    {
      "cell_type": "code",
      "metadata": {
        "id": "SR2irMjeLkgf"
      },
      "source": [
        "data['genres'] = data['genres'].fillna('[]').apply(ast.literal_eval)\n",
        "data['genres'] = data['genres'].apply(lambda x: [i['name'].lower() for i in x] if isinstance(x, list) else [])"
      ],
      "execution_count": null,
      "outputs": []
    },
    {
      "cell_type": "code",
      "metadata": {
        "id": "MA13btS_K3lf",
        "outputId": "cd067e5a-ab6f-4ece-c62a-11107e059cae",
        "colab": {
          "base_uri": "https://localhost:8080/",
          "height": 111
        }
      },
      "source": [
        "data = data.drop(['tagline', 'poster_path', 'popularity'], axis = 1)\n",
        "data = data[data.overview != 'No overview found.']\n",
        "\n",
        "# Now let's see what we're left with:\n",
        "data.head(2)"
      ],
      "execution_count": null,
      "outputs": [
        {
          "output_type": "execute_result",
          "data": {
            "text/html": [
              "<div>\n",
              "<style scoped>\n",
              "    .dataframe tbody tr th:only-of-type {\n",
              "        vertical-align: middle;\n",
              "    }\n",
              "\n",
              "    .dataframe tbody tr th {\n",
              "        vertical-align: top;\n",
              "    }\n",
              "\n",
              "    .dataframe thead th {\n",
              "        text-align: right;\n",
              "    }\n",
              "</style>\n",
              "<table border=\"1\" class=\"dataframe\">\n",
              "  <thead>\n",
              "    <tr style=\"text-align: right;\">\n",
              "      <th></th>\n",
              "      <th>genres</th>\n",
              "      <th>overview</th>\n",
              "      <th>title</th>\n",
              "      <th>vote_average</th>\n",
              "      <th>vote_count</th>\n",
              "    </tr>\n",
              "  </thead>\n",
              "  <tbody>\n",
              "    <tr>\n",
              "      <th>0</th>\n",
              "      <td>[animation, comedy, family]</td>\n",
              "      <td>Led by Woody, Andy's toys live happily in his ...</td>\n",
              "      <td>Toy Story</td>\n",
              "      <td>7.7</td>\n",
              "      <td>5415.0</td>\n",
              "    </tr>\n",
              "    <tr>\n",
              "      <th>1</th>\n",
              "      <td>[adventure, fantasy, family]</td>\n",
              "      <td>When siblings Judy and Peter discover an encha...</td>\n",
              "      <td>Jumanji</td>\n",
              "      <td>6.9</td>\n",
              "      <td>2413.0</td>\n",
              "    </tr>\n",
              "  </tbody>\n",
              "</table>\n",
              "</div>"
            ],
            "text/plain": [
              "                         genres  ... vote_count\n",
              "0   [animation, comedy, family]  ...     5415.0\n",
              "1  [adventure, fantasy, family]  ...     2413.0\n",
              "\n",
              "[2 rows x 5 columns]"
            ]
          },
          "metadata": {
            "tags": []
          },
          "execution_count": 9
        }
      ]
    },
    {
      "cell_type": "code",
      "metadata": {
        "id": "uDrXXX3LlkYw",
        "outputId": "74bdae6a-de60-4167-99de-a91bd2e1c0c5",
        "colab": {
          "base_uri": "https://localhost:8080/"
        }
      },
      "source": [
        "print(\"Length: \", len(data.overview))"
      ],
      "execution_count": null,
      "outputs": [
        {
          "output_type": "stream",
          "text": [
            "Length:  32131\n"
          ],
          "name": "stdout"
        }
      ]
    },
    {
      "cell_type": "markdown",
      "metadata": {
        "id": "VRoN711HkGHP"
      },
      "source": [
        "## STEP 2 // PRE-PROCESSING"
      ]
    },
    {
      "cell_type": "code",
      "metadata": {
        "id": "PDL18zNEIqUM"
      },
      "source": [
        "#Let's import a few tools and add a few features\n",
        "from tensorflow.keras.preprocessing.text import text_to_word_sequence \n",
        "data['length'] = [len(text_to_word_sequence(str(x))) for x in data.overview] #Number of words in Synopsis\n",
        "data['num_genres'] = [len(x) for x in data.genres] #Number of genres for each movie"
      ],
      "execution_count": null,
      "outputs": []
    },
    {
      "cell_type": "code",
      "metadata": {
        "id": "nlnhqorSI4Kj",
        "outputId": "b9341b1b-a608-4237-ddf3-66a2776edf13",
        "colab": {
          "base_uri": "https://localhost:8080/"
        }
      },
      "source": [
        "#Number of words\n",
        "print(\"average len:\", np.mean(data.length))\n",
        "print(\"min len:\", np.min(data.length))\n",
        "print(\"max len:\", np.max(data.length))"
      ],
      "execution_count": null,
      "outputs": [
        {
          "output_type": "stream",
          "text": [
            "average len: 53.83246708785908\n",
            "min len: 0\n",
            "max len: 187\n"
          ],
          "name": "stdout"
        }
      ]
    },
    {
      "cell_type": "code",
      "metadata": {
        "id": "VxKYAkjKp0Fu",
        "outputId": "90682b69-9b33-49bf-9153-f93487bcf6a8",
        "colab": {
          "base_uri": "https://localhost:8080/",
          "height": 281
        }
      },
      "source": [
        "data['length'].plot(kind='hist', alpha=0.7, color='orange')\n",
        "plt.title('Histogram of Number of Words')\n",
        "plt.show()"
      ],
      "execution_count": null,
      "outputs": [
        {
          "output_type": "display_data",
          "data": {
            "image/png": "[encoded data removed]",
            "text/plain": [
              "<Figure size 432x288 with 1 Axes>"
            ]
          },
          "metadata": {
            "tags": [],
            "needs_background": "light"
          }
        }
      ]
    },
    {
      "cell_type": "code",
      "metadata": {
        "id": "7jWcaGujKBCg",
        "outputId": "f05ff9b7-95d3-4c34-df71-b77be075b750",
        "colab": {
          "base_uri": "https://localhost:8080/"
        }
      },
      "source": [
        "#Genres\n",
        "print(\"average number of genres:\", np.mean(data.num_genres))\n",
        "print(\"min:\", np.min(data.num_genres))\n",
        "print(\"max:\", np.max(data.num_genres))"
      ],
      "execution_count": null,
      "outputs": [
        {
          "output_type": "stream",
          "text": [
            "average number of genres: 2.047524197815194\n",
            "min: 0\n",
            "max: 8\n"
          ],
          "name": "stdout"
        }
      ]
    },
    {
      "cell_type": "code",
      "metadata": {
        "id": "-77Zf8RjIvzv",
        "outputId": "11a7cff6-b00d-4a60-dfa3-e638a901904a",
        "colab": {
          "base_uri": "https://localhost:8080/"
        }
      },
      "source": [
        "#Now let's filter to keep only movies with more than 10 words / less that 125 words in their synopsis\n",
        "print(\"Before: \", len(data.length))\n",
        "data = data[data.length>10]\n",
        "data = data[data.length<125]\n",
        "print(\"After: \", len(data.length))"
      ],
      "execution_count": null,
      "outputs": [
        {
          "output_type": "stream",
          "text": [
            "Before:  32131\n",
            "After:  30049\n"
          ],
          "name": "stdout"
        }
      ]
    },
    {
      "cell_type": "code",
      "metadata": {
        "id": "AJbZUWrwm1EO",
        "outputId": "bb5312b8-1963-46bd-de00-57f7cda8919e",
        "colab": {
          "base_uri": "https://localhost:8080/"
        }
      },
      "source": [
        "#Explore all the genres...\n",
        "allgenres = [item for x in data.genres for item in x]\n",
        "allgenres = set(allgenres)\n",
        "allgenres"
      ],
      "execution_count": null,
      "outputs": [
        {
          "output_type": "execute_result",
          "data": {
            "text/plain": [
              "{'action',\n",
              " 'adventure',\n",
              " 'animation',\n",
              " 'comedy',\n",
              " 'crime',\n",
              " 'documentary',\n",
              " 'drama',\n",
              " 'family',\n",
              " 'fantasy',\n",
              " 'foreign',\n",
              " 'history',\n",
              " 'horror',\n",
              " 'music',\n",
              " 'mystery',\n",
              " 'romance',\n",
              " 'science fiction',\n",
              " 'thriller',\n",
              " 'tv movie',\n",
              " 'war',\n",
              " 'western'}"
            ]
          },
          "metadata": {
            "tags": []
          },
          "execution_count": 16
        }
      ]
    },
    {
      "cell_type": "code",
      "metadata": {
        "id": "Y9yWHGmGL63u"
      },
      "source": [
        "#Encoding the genres into Binary features...\n",
        "data['action'] = [1 if 'action' in x else 0 for x in data.genres]\n",
        "data['adventure'] = [1 if  'adventure' in x else 0 for x in data.genres]\n",
        "data['animation'] = [1 if  'animation' in x else 0 for x in data.genres]\n",
        "data['comedy'] = [1 if  'comedy' in x else 0 for x in data.genres]\n",
        "data['crime'] = [1 if  'crime' in x  else 0 for x in data.genres]\n",
        "data['documentary'] = [1 if  'documentary' in x  else 0 for x in data.genres]\n",
        "data['drama'] = [1 if  'drama' in x else 0 for x in data.genres]\n",
        "data['family'] = [1 if  'family' in x else 0 for x in data.genres]\n",
        "data['fantasy'] = [1 if  'fantasy' in x else 0 for x in data.genres]\n",
        "data['foreign'] = [1 if  'foreign' in x else 0 for x in data.genres]\n",
        "data['history'] = [1 if  'history' in x  else 0 for x in data.genres]\n",
        "data['horror'] = [1 if  'horror' in x  else 0 for x in data.genres]\n",
        "data['music'] = [1 if  'music' in x else 0 for x in data.genres]\n",
        "data['mystery'] = [1 if  'mystery' in x else 0 for x in data.genres]\n",
        "data['romance'] = [1 if  'romance' in x else 0 for x in data.genres]\n",
        "data['sci_fi'] = [1 if 'science fiction' in x else 0 for x in data.genres]\n",
        "data['thriller'] = [1 if 'thriller' in x  else 0 for x in data.genres]\n",
        "data['tv_movie'] = [1 if 'tv movie' in x  else 0 for x in data.genres]\n",
        "data['war'] = [1 if 'war' in x  else 0 for x in data.genres]\n",
        "data['western'] = [1 if 'western' in x  else 0 for x in data.genres]\n"
      ],
      "execution_count": null,
      "outputs": []
    },
    {
      "cell_type": "code",
      "metadata": {
        "id": "t9VTpBHONKck",
        "outputId": "182729c9-9cac-4685-ac5f-03a9d6641c96",
        "colab": {
          "base_uri": "https://localhost:8080/",
          "height": 434
        }
      },
      "source": [
        "data.head(3)"
      ],
      "execution_count": null,
      "outputs": [
        {
          "output_type": "execute_result",
          "data": {
            "text/html": [
              "<div>\n",
              "<style scoped>\n",
              "    .dataframe tbody tr th:only-of-type {\n",
              "        vertical-align: middle;\n",
              "    }\n",
              "\n",
              "    .dataframe tbody tr th {\n",
              "        vertical-align: top;\n",
              "    }\n",
              "\n",
              "    .dataframe thead th {\n",
              "        text-align: right;\n",
              "    }\n",
              "</style>\n",
              "<table border=\"1\" class=\"dataframe\">\n",
              "  <thead>\n",
              "    <tr style=\"text-align: right;\">\n",
              "      <th></th>\n",
              "      <th>genres</th>\n",
              "      <th>overview</th>\n",
              "      <th>title</th>\n",
              "      <th>vote_average</th>\n",
              "      <th>vote_count</th>\n",
              "      <th>length</th>\n",
              "      <th>num_genres</th>\n",
              "      <th>action</th>\n",
              "      <th>adventure</th>\n",
              "      <th>animation</th>\n",
              "      <th>comedy</th>\n",
              "      <th>crime</th>\n",
              "      <th>documentary</th>\n",
              "      <th>drama</th>\n",
              "      <th>family</th>\n",
              "      <th>fantasy</th>\n",
              "      <th>foreign</th>\n",
              "      <th>history</th>\n",
              "      <th>horror</th>\n",
              "      <th>music</th>\n",
              "      <th>mystery</th>\n",
              "      <th>romance</th>\n",
              "      <th>sci_fi</th>\n",
              "      <th>thriller</th>\n",
              "      <th>tv_movie</th>\n",
              "      <th>war</th>\n",
              "      <th>western</th>\n",
              "    </tr>\n",
              "  </thead>\n",
              "  <tbody>\n",
              "    <tr>\n",
              "      <th>0</th>\n",
              "      <td>[animation, comedy, family]</td>\n",
              "      <td>Led by Woody, Andy's toys live happily in his ...</td>\n",
              "      <td>Toy Story</td>\n",
              "      <td>7.7</td>\n",
              "      <td>5415.0</td>\n",
              "      <td>50</td>\n",
              "      <td>3</td>\n",
              "      <td>0</td>\n",
              "      <td>0</td>\n",
              "      <td>1</td>\n",
              "      <td>1</td>\n",
              "      <td>0</td>\n",
              "      <td>0</td>\n",
              "      <td>0</td>\n",
              "      <td>1</td>\n",
              "      <td>0</td>\n",
              "      <td>0</td>\n",
              "      <td>0</td>\n",
              "      <td>0</td>\n",
              "      <td>0</td>\n",
              "      <td>0</td>\n",
              "      <td>0</td>\n",
              "      <td>0</td>\n",
              "      <td>0</td>\n",
              "      <td>0</td>\n",
              "      <td>0</td>\n",
              "      <td>0</td>\n",
              "    </tr>\n",
              "    <tr>\n",
              "      <th>1</th>\n",
              "      <td>[adventure, fantasy, family]</td>\n",
              "      <td>When siblings Judy and Peter discover an encha...</td>\n",
              "      <td>Jumanji</td>\n",
              "      <td>6.9</td>\n",
              "      <td>2413.0</td>\n",
              "      <td>65</td>\n",
              "      <td>3</td>\n",
              "      <td>0</td>\n",
              "      <td>1</td>\n",
              "      <td>0</td>\n",
              "      <td>0</td>\n",
              "      <td>0</td>\n",
              "      <td>0</td>\n",
              "      <td>0</td>\n",
              "      <td>1</td>\n",
              "      <td>1</td>\n",
              "      <td>0</td>\n",
              "      <td>0</td>\n",
              "      <td>0</td>\n",
              "      <td>0</td>\n",
              "      <td>0</td>\n",
              "      <td>0</td>\n",
              "      <td>0</td>\n",
              "      <td>0</td>\n",
              "      <td>0</td>\n",
              "      <td>0</td>\n",
              "      <td>0</td>\n",
              "    </tr>\n",
              "    <tr>\n",
              "      <th>2</th>\n",
              "      <td>[romance, comedy]</td>\n",
              "      <td>A family wedding reignites the ancient feud be...</td>\n",
              "      <td>Grumpier Old Men</td>\n",
              "      <td>6.5</td>\n",
              "      <td>92.0</td>\n",
              "      <td>57</td>\n",
              "      <td>2</td>\n",
              "      <td>0</td>\n",
              "      <td>0</td>\n",
              "      <td>0</td>\n",
              "      <td>1</td>\n",
              "      <td>0</td>\n",
              "      <td>0</td>\n",
              "      <td>0</td>\n",
              "      <td>0</td>\n",
              "      <td>0</td>\n",
              "      <td>0</td>\n",
              "      <td>0</td>\n",
              "      <td>0</td>\n",
              "      <td>0</td>\n",
              "      <td>0</td>\n",
              "      <td>1</td>\n",
              "      <td>0</td>\n",
              "      <td>0</td>\n",
              "      <td>0</td>\n",
              "      <td>0</td>\n",
              "      <td>0</td>\n",
              "    </tr>\n",
              "  </tbody>\n",
              "</table>\n",
              "</div>"
            ],
            "text/plain": [
              "                         genres  ... western\n",
              "0   [animation, comedy, family]  ...       0\n",
              "1  [adventure, fantasy, family]  ...       0\n",
              "2             [romance, comedy]  ...       0\n",
              "\n",
              "[3 rows x 27 columns]"
            ]
          },
          "metadata": {
            "tags": []
          },
          "execution_count": 18
        }
      ]
    },
    {
      "cell_type": "code",
      "metadata": {
        "id": "HPbAhrBUPLCj"
      },
      "source": [
        "import string\n",
        "data['words'] = [str(x).lower() for x in data.overview]"
      ],
      "execution_count": null,
      "outputs": []
    },
    {
      "cell_type": "code",
      "metadata": {
        "id": "Se4lwLzkPaJ5",
        "outputId": "176547b0-427e-4bc5-e680-4b530a511398",
        "colab": {
          "base_uri": "https://localhost:8080/"
        }
      },
      "source": [
        "# Filtering for English only...\n",
        "!pip install langdetect\n",
        "from langdetect import detect\n",
        "data['language'] = [detect(str(x)) for x in data.overview]\n",
        "data = data[data.language == 'en']"
      ],
      "execution_count": null,
      "outputs": [
        {
          "output_type": "stream",
          "text": [
            "Collecting langdetect\n",
            "\u001b[?25l  Downloading https://files.pythonhosted.org/packages/56/a3/8407c1e62d5980188b4acc45ef3d94b933d14a2ebc9ef3505f22cf772570/langdetect-1.0.8.tar.gz (981kB)\n",
            "\r\u001b[K     |▍                               | 10kB 18.3MB/s eta 0:00:01\r\u001b[K     |▊                               | 20kB 6.0MB/s eta 0:00:01\r\u001b[K     |█                               | 30kB 7.4MB/s eta 0:00:01\r\u001b[K     |█▍                              | 40kB 7.1MB/s eta 0:00:01\r\u001b[K     |█▊                              | 51kB 6.5MB/s eta 0:00:01\r\u001b[K     |██                              | 61kB 6.9MB/s eta 0:00:01\r\u001b[K     |██▍                             | 71kB 7.5MB/s eta 0:00:01\r\u001b[K     |██▊                             | 81kB 8.4MB/s eta 0:00:01\r\u001b[K     |███                             | 92kB 7.7MB/s eta 0:00:01\r\u001b[K     |███▍                            | 102kB 7.9MB/s eta 0:00:01\r\u001b[K     |███▊                            | 112kB 7.9MB/s eta 0:00:01\r\u001b[K     |████                            | 122kB 7.9MB/s eta 0:00:01\r\u001b[K     |████▍                           | 133kB 7.9MB/s eta 0:00:01\r\u001b[K     |████▊                           | 143kB 7.9MB/s eta 0:00:01\r\u001b[K     |█████                           | 153kB 7.9MB/s eta 0:00:01\r\u001b[K     |█████▍                          | 163kB 7.9MB/s eta 0:00:01\r\u001b[K     |█████▊                          | 174kB 7.9MB/s eta 0:00:01\r\u001b[K     |██████                          | 184kB 7.9MB/s eta 0:00:01\r\u001b[K     |██████▍                         | 194kB 7.9MB/s eta 0:00:01\r\u001b[K     |██████▊                         | 204kB 7.9MB/s eta 0:00:01\r\u001b[K     |███████                         | 215kB 7.9MB/s eta 0:00:01\r\u001b[K     |███████▍                        | 225kB 7.9MB/s eta 0:00:01\r\u001b[K     |███████▊                        | 235kB 7.9MB/s eta 0:00:01\r\u001b[K     |████████                        | 245kB 7.9MB/s eta 0:00:01\r\u001b[K     |████████▍                       | 256kB 7.9MB/s eta 0:00:01\r\u001b[K     |████████▊                       | 266kB 7.9MB/s eta 0:00:01\r\u001b[K     |█████████                       | 276kB 7.9MB/s eta 0:00:01\r\u001b[K     |█████████▍                      | 286kB 7.9MB/s eta 0:00:01\r\u001b[K     |█████████▊                      | 296kB 7.9MB/s eta 0:00:01\r\u001b[K     |██████████                      | 307kB 7.9MB/s eta 0:00:01\r\u001b[K     |██████████▍                     | 317kB 7.9MB/s eta 0:00:01\r\u001b[K     |██████████▊                     | 327kB 7.9MB/s eta 0:00:01\r\u001b[K     |███████████                     | 337kB 7.9MB/s eta 0:00:01\r\u001b[K     |███████████▍                    | 348kB 7.9MB/s eta 0:00:01\r\u001b[K     |███████████▊                    | 358kB 7.9MB/s eta 0:00:01\r\u001b[K     |████████████                    | 368kB 7.9MB/s eta 0:00:01\r\u001b[K     |████████████▍                   | 378kB 7.9MB/s eta 0:00:01\r\u001b[K     |████████████▊                   | 389kB 7.9MB/s eta 0:00:01\r\u001b[K     |█████████████                   | 399kB 7.9MB/s eta 0:00:01\r\u001b[K     |█████████████▍                  | 409kB 7.9MB/s eta 0:00:01\r\u001b[K     |█████████████▊                  | 419kB 7.9MB/s eta 0:00:01\r\u001b[K     |██████████████                  | 430kB 7.9MB/s eta 0:00:01\r\u001b[K     |██████████████▍                 | 440kB 7.9MB/s eta 0:00:01\r\u001b[K     |██████████████▊                 | 450kB 7.9MB/s eta 0:00:01\r\u001b[K     |███████████████                 | 460kB 7.9MB/s eta 0:00:01\r\u001b[K     |███████████████▍                | 471kB 7.9MB/s eta 0:00:01\r\u001b[K     |███████████████▊                | 481kB 7.9MB/s eta 0:00:01\r\u001b[K     |████████████████                | 491kB 7.9MB/s eta 0:00:01\r\u001b[K     |████████████████▍               | 501kB 7.9MB/s eta 0:00:01\r\u001b[K     |████████████████▊               | 512kB 7.9MB/s eta 0:00:01\r\u001b[K     |█████████████████               | 522kB 7.9MB/s eta 0:00:01\r\u001b[K     |█████████████████▍              | 532kB 7.9MB/s eta 0:00:01\r\u001b[K     |█████████████████▊              | 542kB 7.9MB/s eta 0:00:01\r\u001b[K     |██████████████████              | 552kB 7.9MB/s eta 0:00:01\r\u001b[K     |██████████████████▍             | 563kB 7.9MB/s eta 0:00:01\r\u001b[K     |██████████████████▊             | 573kB 7.9MB/s eta 0:00:01\r\u001b[K     |███████████████████             | 583kB 7.9MB/s eta 0:00:01\r\u001b[K     |███████████████████▍            | 593kB 7.9MB/s eta 0:00:01\r\u001b[K     |███████████████████▊            | 604kB 7.9MB/s eta 0:00:01\r\u001b[K     |████████████████████            | 614kB 7.9MB/s eta 0:00:01\r\u001b[K     |████████████████████▍           | 624kB 7.9MB/s eta 0:00:01\r\u001b[K     |████████████████████▊           | 634kB 7.9MB/s eta 0:00:01\r\u001b[K     |█████████████████████           | 645kB 7.9MB/s eta 0:00:01\r\u001b[K     |█████████████████████▍          | 655kB 7.9MB/s eta 0:00:01\r\u001b[K     |█████████████████████▊          | 665kB 7.9MB/s eta 0:00:01\r\u001b[K     |██████████████████████          | 675kB 7.9MB/s eta 0:00:01\r\u001b[K     |██████████████████████▍         | 686kB 7.9MB/s eta 0:00:01\r\u001b[K     |██████████████████████▊         | 696kB 7.9MB/s eta 0:00:01\r\u001b[K     |███████████████████████         | 706kB 7.9MB/s eta 0:00:01\r\u001b[K     |███████████████████████▍        | 716kB 7.9MB/s eta 0:00:01\r\u001b[K     |███████████████████████▊        | 727kB 7.9MB/s eta 0:00:01\r\u001b[K     |████████████████████████        | 737kB 7.9MB/s eta 0:00:01\r\u001b[K     |████████████████████████▍       | 747kB 7.9MB/s eta 0:00:01\r\u001b[K     |████████████████████████▊       | 757kB 7.9MB/s eta 0:00:01\r\u001b[K     |█████████████████████████       | 768kB 7.9MB/s eta 0:00:01\r\u001b[K     |█████████████████████████▍      | 778kB 7.9MB/s eta 0:00:01\r\u001b[K     |█████████████████████████▊      | 788kB 7.9MB/s eta 0:00:01\r\u001b[K     |██████████████████████████      | 798kB 7.9MB/s eta 0:00:01\r\u001b[K     |██████████████████████████▍     | 808kB 7.9MB/s eta 0:00:01\r\u001b[K     |██████████████████████████▊     | 819kB 7.9MB/s eta 0:00:01\r\u001b[K     |███████████████████████████     | 829kB 7.9MB/s eta 0:00:01\r\u001b[K     |███████████████████████████▍    | 839kB 7.9MB/s eta 0:00:01\r\u001b[K     |███████████████████████████▊    | 849kB 7.9MB/s eta 0:00:01\r\u001b[K     |████████████████████████████    | 860kB 7.9MB/s eta 0:00:01\r\u001b[K     |████████████████████████████▍   | 870kB 7.9MB/s eta 0:00:01\r\u001b[K     |████████████████████████████▊   | 880kB 7.9MB/s eta 0:00:01\r\u001b[K     |█████████████████████████████   | 890kB 7.9MB/s eta 0:00:01\r\u001b[K     |█████████████████████████████▍  | 901kB 7.9MB/s eta 0:00:01\r\u001b[K     |█████████████████████████████▊  | 911kB 7.9MB/s eta 0:00:01\r\u001b[K     |██████████████████████████████  | 921kB 7.9MB/s eta 0:00:01\r\u001b[K     |██████████████████████████████▍ | 931kB 7.9MB/s eta 0:00:01\r\u001b[K     |██████████████████████████████▊ | 942kB 7.9MB/s eta 0:00:01\r\u001b[K     |███████████████████████████████ | 952kB 7.9MB/s eta 0:00:01\r\u001b[K     |███████████████████████████████▍| 962kB 7.9MB/s eta 0:00:01\r\u001b[K     |███████████████████████████████▊| 972kB 7.9MB/s eta 0:00:01\r\u001b[K     |████████████████████████████████| 983kB 7.9MB/s \n",
            "\u001b[?25hRequirement already satisfied: six in /usr/local/lib/python3.6/dist-packages (from langdetect) (1.15.0)\n",
            "Building wheels for collected packages: langdetect\n",
            "  Building wheel for langdetect (setup.py) ... \u001b[?25l\u001b[?25hdone\n",
            "  Created wheel for langdetect: filename=langdetect-1.0.8-cp36-none-any.whl size=993195 sha256=a7bbda988f1bdb530543a613354738ac96f3ace513fec7cb1daac3dd1b809f72\n",
            "  Stored in directory: /root/.cache/pip/wheels/8d/b3/aa/6d99de9f3841d7d3d40a60ea06e6d669e8e5012e6c8b947a57\n",
            "Successfully built langdetect\n",
            "Installing collected packages: langdetect\n",
            "Successfully installed langdetect-1.0.8\n"
          ],
          "name": "stdout"
        }
      ]
    },
    {
      "cell_type": "code",
      "metadata": {
        "id": "Wu-guvpoP0V5",
        "outputId": "22b41496-a448-4d76-d8bc-332e9f055e25",
        "colab": {
          "base_uri": "https://localhost:8080/"
        }
      },
      "source": [
        "#Removing rows with unusual/rare characters...\n",
        "charlist = set('лносцगचटपमरष®')\n",
        "char = ('\\u200b','\\xad','\\xa0','\\x92', '\\n',  'à','á','â','ã','ä', 'å','ç','è', 'ë','í','î','ï', 'ñ', 'ò','ó','ô','ö','ø','ú', 'ü','ğ','ı','ō')\n",
        "\n",
        "data['check1'] = [1 if any((c in charlist) for c in s) else 0 for s in data.words]\n",
        "data['check2'] = [1 if any((c in char) for c in s) else 0 for s in data.words]\n",
        "\n",
        "print(\"Before: \", len(data.title))\n",
        "data = data[data.check1 == 0]\n",
        "data = data[data.check2 == 0]\n",
        "print(\"After: \", len(data.title))\n",
        "\n",
        "data = data.drop(['check1', 'check2', 'language'], axis = 1)"
      ],
      "execution_count": null,
      "outputs": [
        {
          "output_type": "stream",
          "text": [
            "Before:  29981\n",
            "After:  29638\n"
          ],
          "name": "stdout"
        }
      ]
    },
    {
      "cell_type": "code",
      "metadata": {
        "id": "W-A05122pU1H"
      },
      "source": [
        "data['success'] = [1 if x>6.5 else 0 for x in data.vote_average]"
      ],
      "execution_count": null,
      "outputs": []
    },
    {
      "cell_type": "code",
      "metadata": {
        "id": "chNXK7yfonJB",
        "outputId": "08c970d3-9fa9-435c-c3ba-f269c0ef12a6",
        "colab": {
          "base_uri": "https://localhost:8080/"
        }
      },
      "source": [
        "#Overview...\n",
        "print(\"Number of movies: \", len(data.title))\n",
        "print(\"Number of success movies\", np.sum(data.success))\n",
        "print(\"Average vote: \", np.round(np.mean(data.vote_average)))\n",
        "print(\"Average synopsis length: \", np.round(np.mean(data.length)))"
      ],
      "execution_count": null,
      "outputs": [
        {
          "output_type": "stream",
          "text": [
            "Number of movies:  29638\n",
            "Number of success movies 8377\n",
            "Average vote:  6.0\n",
            "Average synopsis length:  50.0\n"
          ],
          "name": "stdout"
        }
      ]
    },
    {
      "cell_type": "code",
      "metadata": {
        "id": "5hOpq2CerIOc",
        "outputId": "a41c5174-15e1-4e8a-f94b-e5bbe4d4e189",
        "colab": {
          "base_uri": "https://localhost:8080/",
          "height": 281
        }
      },
      "source": [
        "# HISTOGRAM / VOTES\n",
        "\n",
        "data['vote_average'].plot(kind='hist', alpha=0.7, color='orange')\n",
        "plt.title('Histogram of Average Vote')\n",
        "\n",
        "plt.show()"
      ],
      "execution_count": null,
      "outputs": [
        {
          "output_type": "display_data",
          "data": {
            "image/png": "[encoded data removed]",
            "text/plain": [
              "<Figure size 432x288 with 1 Axes>"
            ]
          },
          "metadata": {
            "tags": [],
            "needs_background": "light"
          }
        }
      ]
    },
    {
      "cell_type": "code",
      "metadata": {
        "id": "RkPDzvALsYjz",
        "outputId": "1d56cd6e-9f67-4df0-e7ef-98b536c61a18",
        "colab": {
          "base_uri": "https://localhost:8080/",
          "height": 281
        }
      },
      "source": [
        "# HISTOGRAM / LENGTH\n",
        "\n",
        "data['length'].plot(kind='hist', alpha=0.7, color='blue')\n",
        "plt.title('Histogram of Synopsis Length')\n",
        "\n",
        "plt.show()"
      ],
      "execution_count": null,
      "outputs": [
        {
          "output_type": "display_data",
          "data": {
            "image/png": "[encoded data removed]",
            "text/plain": [
              "<Figure size 432x288 with 1 Axes>"
            ]
          },
          "metadata": {
            "tags": [],
            "needs_background": "light"
          }
        }
      ]
    },
    {
      "cell_type": "code",
      "metadata": {
        "id": "dexN4_0RVTdL"
      },
      "source": [
        "# GENRES\n",
        "allgenres.discard(\"science fiction\")\n",
        "allgenres.discard(\"tv movie\")\n",
        "allgenres.add('sci_fi')\n",
        "allgenres.add(\"tv_movie\")\n",
        "genresum = [data[x].sum() for x in allgenres]\n"
      ],
      "execution_count": null,
      "outputs": []
    },
    {
      "cell_type": "code",
      "metadata": {
        "id": "ahO_gezpwCHM",
        "outputId": "b8ccc1c8-0007-46a6-9ec3-aff52497961a",
        "colab": {
          "base_uri": "https://localhost:8080/",
          "height": 330
        }
      },
      "source": [
        "# HISTOGRAM / GENRES\n",
        "fig = plt.figure()\n",
        "ax = fig.add_axes([0,0,3,1])\n",
        "ax.bar(list(allgenres),genresum)\n",
        "plt.show()"
      ],
      "execution_count": null,
      "outputs": [
        {
          "output_type": "display_data",
          "data": {
            "image/png": "[encoded data removed]",
            "text/plain": [
              "<Figure size 432x288 with 1 Axes>"
            ]
          },
          "metadata": {
            "tags": [],
            "needs_background": "light"
          }
        }
      ]
    },
    {
      "cell_type": "code",
      "metadata": {
        "id": "U1is0TStxWrZ"
      },
      "source": [
        "# WORDS WITH *SOME* PUNCTUATION...\n",
        "pun = set('.')\n",
        "data['overview_stop'] = [''.join(' .' if l in pun else l for l in x) for x in data.overview]"
      ],
      "execution_count": null,
      "outputs": []
    },
    {
      "cell_type": "code",
      "metadata": {
        "id": "RsQHbNzDyDWi",
        "outputId": "4d29dd5a-9978-44aa-9e69-c9f14cab1a00",
        "colab": {
          "base_uri": "https://localhost:8080/"
        }
      },
      "source": [
        "print(data.overview[0])\n",
        "print(data.overview_stop[0])"
      ],
      "execution_count": null,
      "outputs": [
        {
          "output_type": "stream",
          "text": [
            "Led by Woody, Andy's toys live happily in his room until Andy's birthday brings Buzz Lightyear onto the scene. Afraid of losing his place in Andy's heart, Woody plots against Buzz. But when circumstances separate Buzz and Woody from their owner, the duo eventually learns to put aside their differences.\n",
            "Led by Woody, Andy's toys live happily in his room until Andy's birthday brings Buzz Lightyear onto the scene . Afraid of losing his place in Andy's heart, Woody plots against Buzz . But when circumstances separate Buzz and Woody from their owner, the duo eventually learns to put aside their differences .\n"
          ],
          "name": "stdout"
        }
      ]
    },
    {
      "cell_type": "code",
      "metadata": {
        "id": "m_DnMrqehpGa"
      },
      "source": [
        "import tensorflow as tf\n",
        "\n",
        "from tensorflow.keras.models import Sequential, Model\n",
        "from tensorflow.keras.layers import Layer\n",
        "from tensorflow.keras.layers import Input, Dense, Concatenate, Masking, Embedding, Dropout\n",
        "from tensorflow.keras.preprocessing.text import Tokenizer\n",
        "from tensorflow.keras.preprocessing.sequence import pad_sequences\n",
        "from tensorflow.keras.layers import SimpleRNN, GRU, LSTM, Bidirectional\n",
        "from tensorflow.keras.losses import CategoricalCrossentropy, SparseCategoricalCrossentropy\n",
        "from tensorflow.keras.callbacks import LambdaCallback, ModelCheckpoint\n",
        "from tensorflow.keras.optimizers import RMSprop, Adam, Adamax"
      ],
      "execution_count": null,
      "outputs": []
    },
    {
      "cell_type": "code",
      "metadata": {
        "id": "8eiEz7YihpR8"
      },
      "source": [
        "# Tokenizing / Create a Tokenizer object\n",
        "\n",
        "liststrings = list(data.overview_stop)\n",
        "size_dict = 9000\n",
        "tokenizer = Tokenizer(num_words= size_dict, \n",
        "                      filters='!\"#$%&()*+,-/:;<=>?@[\\\\]^_`{|}~\\t\\n', \n",
        "                      split=' ', \n",
        "                      oov_token='<UNK>',\n",
        "                      document_count=0)\n",
        "\n",
        "\n",
        "tokenizer.fit_on_texts(liststrings) \n",
        "seqtokens = tokenizer.texts_to_sequences(liststrings)\n",
        "\n",
        "tokenizer_config = tokenizer.get_config()\n",
        "dict_counts = tokenizer_config['word_counts']\n",
        "dict_index = tokenizer_config['word_index'] "
      ],
      "execution_count": null,
      "outputs": []
    },
    {
      "cell_type": "code",
      "metadata": {
        "id": "HPCIGasFhw65"
      },
      "source": [
        "sequnk = [[1 if x ==1 else 0 for x in s] for s in seqtokens]\n",
        "data['count_unk'] = [np.sum(x) for x in sequnk]\n",
        "data['freq_unk'] = [float(np.sum(x)/len(x)) for x in sequnk]"
      ],
      "execution_count": null,
      "outputs": []
    },
    {
      "cell_type": "code",
      "metadata": {
        "id": "SpsJ7iYgiA04",
        "outputId": "8ef179ec-05f8-4315-c7cb-adfd84465653",
        "colab": {
          "base_uri": "https://localhost:8080/",
          "height": 281
        }
      },
      "source": [
        "# HISTOGRAM / UNK COUNT\n",
        "\n",
        "data['count_unk'].plot(kind='hist', alpha=0.7, color='blue')\n",
        "plt.title('Histogram of <UNK> Counts')\n",
        "\n",
        "plt.show()"
      ],
      "execution_count": null,
      "outputs": [
        {
          "output_type": "display_data",
          "data": {
            "image/png": "[encoded data removed]",
            "text/plain": [
              "<Figure size 432x288 with 1 Axes>"
            ]
          },
          "metadata": {
            "tags": [],
            "needs_background": "light"
          }
        }
      ]
    },
    {
      "cell_type": "code",
      "metadata": {
        "id": "mh73aCtxiKCs",
        "outputId": "d040dee4-b270-4614-f76d-55b788e8e1f4",
        "colab": {
          "base_uri": "https://localhost:8080/",
          "height": 281
        }
      },
      "source": [
        "# HISTOGRAM / UNK FREQ\n",
        "\n",
        "data['freq_unk'].plot(kind='hist', alpha=0.7, color='blue')\n",
        "plt.title('Histogram of <UNK> Freq')\n",
        "\n",
        "plt.show()"
      ],
      "execution_count": null,
      "outputs": [
        {
          "output_type": "display_data",
          "data": {
            "image/png": "[encoded data removed]",
            "text/plain": [
              "<Figure size 432x288 with 1 Axes>"
            ]
          },
          "metadata": {
            "tags": [],
            "needs_background": "light"
          }
        }
      ]
    },
    {
      "cell_type": "code",
      "metadata": {
        "id": "ySnYa3t8iReJ",
        "outputId": "68140906-ff1a-4ff7-ce41-3dd0058c798f",
        "colab": {
          "base_uri": "https://localhost:8080/"
        }
      },
      "source": [
        "print(\"Before: \", len(data.title))\n",
        "data = data[data.freq_unk<0.1]\n",
        "print(\"After: \", len(data.title))\n"
      ],
      "execution_count": null,
      "outputs": [
        {
          "output_type": "stream",
          "text": [
            "Before:  22127\n",
            "After:  20691\n"
          ],
          "name": "stdout"
        }
      ]
    },
    {
      "cell_type": "code",
      "metadata": {
        "id": "_bVURG9Wq83d"
      },
      "source": [
        "# Saving...\n",
        "data.to_csv('/content/drive/My Drive/CS230/finaldata.csv', index = False)"
      ],
      "execution_count": null,
      "outputs": []
    },
    {
      "cell_type": "code",
      "metadata": {
        "id": "TZzO2PDi7nok"
      },
      "source": [
        "data = pd.read_csv('/content/drive/My Drive/CS230/finaldata.csv')"
      ],
      "execution_count": null,
      "outputs": []
    },
    {
      "cell_type": "code",
      "metadata": {
        "id": "nuF2i4Q0bdqW"
      },
      "source": [
        "from sklearn.model_selection import train_test_split\n",
        "data_train, data_test = train_test_split(data, test_size=0.02, random_state=42)"
      ],
      "execution_count": null,
      "outputs": []
    },
    {
      "cell_type": "code",
      "metadata": {
        "id": "v0d7QwURbxF4"
      },
      "source": [
        "# Saving train & test...\n",
        "data_train.to_csv('/content/drive/My Drive/CS230/finaldata_train.csv', index = False)\n",
        "data_test.to_csv('/content/drive/My Drive/CS230/finaldata_test.csv', index = False)"
      ],
      "execution_count": null,
      "outputs": []
    }
  ]
}