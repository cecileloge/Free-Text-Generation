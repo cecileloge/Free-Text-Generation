{
  "nbformat": 4,
  "nbformat_minor": 0,
  "metadata": {
    "accelerator": "GPU",
    "colab": {
      "name": "CS230 // Unconditional Language Models (1/2).ipynb",
      "provenance": [],
      "collapsed_sections": [
        "-XuY71GfoOlL",
        "_TBM529kn9pG",
        "mzVUh3ugx4-7",
        "N_73CJ7MZ6k5"
      ]
    },
    "kernelspec": {
      "display_name": "Python 3",
      "name": "python3"
    }
  },
  "cells": [
    {
      "cell_type": "markdown",
      "metadata": {
        "id": "vOGCCycHnkW2"
      },
      "source": [
        "# Unconditional Language Models (4.1 & 4.3)\n",
        "\n",
        "\n",
        "*   STEP 1 TOKENIZE THE DATA\n",
        "*   STEP 2 PREPROCESS INTO SMALLER SEQUENCES FOR TRAINING\n",
        "*   STEP 3 TRAIN BASELINE GRU RNN TO PRODUCE TEXT\n",
        "*   STEP 4 TRAIN GATED CNN WITH RESIDUAL\n",
        "*   STEP 5 EVALUATE RESULTS (BLEU & UNIVERSAL COSINE SIMILARITY)\n",
        "\n"
      ]
    },
    {
      "cell_type": "code",
      "metadata": {
        "id": "yB4k2TbnU5tH",
        "outputId": "5431d24b-df44-4ada-d33c-ea34376d43e7",
        "colab": {
          "base_uri": "https://localhost:8080/"
        }
      },
      "source": [
        "from google.colab import drive\n",
        "drive.mount(\"/content/drive\")"
      ],
      "execution_count": null,
      "outputs": [
        {
          "output_type": "stream",
          "text": [
            "Mounted at /content/drive\n"
          ],
          "name": "stdout"
        }
      ]
    },
    {
      "cell_type": "markdown",
      "metadata": {
        "id": "-XuY71GfoOlL"
      },
      "source": [
        "## STEP 0 // IMPORT OUR STUFF"
      ]
    },
    {
      "cell_type": "code",
      "metadata": {
        "id": "upxDWxe4VxAu"
      },
      "source": [
        "# !pip install numpy\n",
        "import pandas as pd\n",
        "import numpy as np\n",
        "import ast\n",
        "# visualization\n",
        "import seaborn as sns\n",
        "import matplotlib.pyplot as plt\n",
        "%matplotlib inline\n",
        "\n",
        "from itertools import compress\n",
        "\n",
        "import random\n",
        "import sys\n",
        "import io"
      ],
      "execution_count": null,
      "outputs": []
    },
    {
      "cell_type": "code",
      "metadata": {
        "id": "6zGiy35aw4jb"
      },
      "source": [
        "import tensorflow as tf\n",
        "\n",
        "from tensorflow.keras.models import Model\n",
        "from tensorflow.keras.layers import Input, Dense, Concatenate, Masking, Embedding, Dropout\n",
        "from tensorflow.keras.preprocessing.text import Tokenizer\n",
        "from tensorflow.keras.preprocessing.sequence import pad_sequences\n",
        "from tensorflow.keras.layers import GRU, LSTM, Bidirectional\n",
        "from tensorflow.keras.layers import Conv1D, Activation, Multiply, Flatten, BatchNormalization, Add\n",
        "from tensorflow.keras.losses import CategoricalCrossentropy, SparseCategoricalCrossentropy\n",
        "from tensorflow.keras.callbacks import LambdaCallback, ModelCheckpoint\n",
        "from tensorflow.keras.optimizers import RMSprop, Adam, Adamax\n",
        "from tensorflow.keras import activations\n",
        "\n",
        "from sklearn.model_selection import train_test_split\n",
        "import nltk\n",
        "from nltk.translate.bleu_score import sentence_bleu\n",
        "from nltk.translate.bleu_score import SmoothingFunction"
      ],
      "execution_count": null,
      "outputs": []
    },
    {
      "cell_type": "code",
      "metadata": {
        "id": "ZEgJUkSeVz3Y"
      },
      "source": [
        "data = pd.read_csv('/content/drive/My Drive/CS230/finaldata.csv')\n",
        "train = pd.read_csv('/content/drive/My Drive/CS230/finaldata_train.csv')\n",
        "test = pd.read_csv('/content/drive/My Drive/CS230/finaldata_test.csv')"
      ],
      "execution_count": null,
      "outputs": []
    },
    {
      "cell_type": "code",
      "metadata": {
        "id": "qm8ZuOz2VzcK",
        "outputId": "4501bac9-9488-464d-a694-5ab03bdd11cb",
        "colab": {
          "base_uri": "https://localhost:8080/"
        }
      },
      "source": [
        "data.head(5).iloc[:, :10]"
      ],
      "execution_count": null,
      "outputs": [
        {
          "output_type": "execute_result",
          "data": {
            "text/html": [
              "<div>\n",
              "<style scoped>\n",
              "    .dataframe tbody tr th:only-of-type {\n",
              "        vertical-align: middle;\n",
              "    }\n",
              "\n",
              "    .dataframe tbody tr th {\n",
              "        vertical-align: top;\n",
              "    }\n",
              "\n",
              "    .dataframe thead th {\n",
              "        text-align: right;\n",
              "    }\n",
              "</style>\n",
              "<table border=\"1\" class=\"dataframe\">\n",
              "  <thead>\n",
              "    <tr style=\"text-align: right;\">\n",
              "      <th></th>\n",
              "      <th>genres</th>\n",
              "      <th>overview</th>\n",
              "      <th>title</th>\n",
              "      <th>vote_average</th>\n",
              "      <th>vote_count</th>\n",
              "      <th>length</th>\n",
              "      <th>num_genres</th>\n",
              "      <th>action</th>\n",
              "      <th>adventure</th>\n",
              "      <th>animation</th>\n",
              "    </tr>\n",
              "  </thead>\n",
              "  <tbody>\n",
              "    <tr>\n",
              "      <th>0</th>\n",
              "      <td>['animation', 'comedy', 'family']</td>\n",
              "      <td>Led by Woody, Andy's toys live happily in his ...</td>\n",
              "      <td>Toy Story</td>\n",
              "      <td>7.7</td>\n",
              "      <td>5415.0</td>\n",
              "      <td>50</td>\n",
              "      <td>3</td>\n",
              "      <td>0</td>\n",
              "      <td>0</td>\n",
              "      <td>1</td>\n",
              "    </tr>\n",
              "    <tr>\n",
              "      <th>1</th>\n",
              "      <td>['adventure', 'fantasy', 'family']</td>\n",
              "      <td>When siblings Judy and Peter discover an encha...</td>\n",
              "      <td>Jumanji</td>\n",
              "      <td>6.9</td>\n",
              "      <td>2413.0</td>\n",
              "      <td>65</td>\n",
              "      <td>3</td>\n",
              "      <td>0</td>\n",
              "      <td>1</td>\n",
              "      <td>0</td>\n",
              "    </tr>\n",
              "    <tr>\n",
              "      <th>2</th>\n",
              "      <td>['romance', 'comedy']</td>\n",
              "      <td>A family wedding reignites the ancient feud be...</td>\n",
              "      <td>Grumpier Old Men</td>\n",
              "      <td>6.5</td>\n",
              "      <td>92.0</td>\n",
              "      <td>57</td>\n",
              "      <td>2</td>\n",
              "      <td>0</td>\n",
              "      <td>0</td>\n",
              "      <td>0</td>\n",
              "    </tr>\n",
              "    <tr>\n",
              "      <th>3</th>\n",
              "      <td>['comedy']</td>\n",
              "      <td>Just when George Banks has recovered from his ...</td>\n",
              "      <td>Father of the Bride Part II</td>\n",
              "      <td>5.7</td>\n",
              "      <td>173.0</td>\n",
              "      <td>56</td>\n",
              "      <td>1</td>\n",
              "      <td>0</td>\n",
              "      <td>0</td>\n",
              "      <td>0</td>\n",
              "    </tr>\n",
              "    <tr>\n",
              "      <th>4</th>\n",
              "      <td>['action', 'crime', 'drama', 'thriller']</td>\n",
              "      <td>Obsessive master thief, Neil McCauley leads a ...</td>\n",
              "      <td>Heat</td>\n",
              "      <td>7.7</td>\n",
              "      <td>1886.0</td>\n",
              "      <td>55</td>\n",
              "      <td>4</td>\n",
              "      <td>1</td>\n",
              "      <td>0</td>\n",
              "      <td>0</td>\n",
              "    </tr>\n",
              "  </tbody>\n",
              "</table>\n",
              "</div>"
            ],
            "text/plain": [
              "                                     genres  ... animation\n",
              "0         ['animation', 'comedy', 'family']  ...         1\n",
              "1        ['adventure', 'fantasy', 'family']  ...         0\n",
              "2                     ['romance', 'comedy']  ...         0\n",
              "3                                ['comedy']  ...         0\n",
              "4  ['action', 'crime', 'drama', 'thriller']  ...         0\n",
              "\n",
              "[5 rows x 10 columns]"
            ]
          },
          "metadata": {
            "tags": []
          },
          "execution_count": 5
        }
      ]
    },
    {
      "cell_type": "code",
      "metadata": {
        "id": "tHIbez-9WM-l",
        "outputId": "c16f99c9-f08a-406f-8189-95eaa3c15a0d",
        "colab": {
          "base_uri": "https://localhost:8080/"
        }
      },
      "source": [
        "# Reminder of the length of the snippets...\n",
        "data['length'].plot(kind='hist', alpha=0.7, color='orange')\n",
        "plt.title('Histogram Snippet Length')\n",
        "\n",
        "plt.show()\n",
        "\n",
        "print('Average Snippet is: ', int(np.mean(data.length)), ' words.')"
      ],
      "execution_count": null,
      "outputs": [
        {
          "output_type": "display_data",
          "data": {
            "image/png": "[encoded data removed]",
            "text/plain": [
              "<Figure size 432x288 with 1 Axes>"
            ]
          },
          "metadata": {
            "tags": [],
            "needs_background": "light"
          }
        },
        {
          "output_type": "stream",
          "text": [
            "Average Snippet is:  48  words.\n"
          ],
          "name": "stdout"
        }
      ]
    },
    {
      "cell_type": "markdown",
      "metadata": {
        "id": "_TBM529kn9pG"
      },
      "source": [
        "## STEP1 // LET'S TOKENIZE THE DATA"
      ]
    },
    {
      "cell_type": "code",
      "metadata": {
        "id": "mK7zJQEuHZGH"
      },
      "source": [
        "data['overview_stop']=['<START> '+a+' <END>' for a in data.overview_stop]\n",
        "train['overview_stop']=['<START> '+a+' <END>' for a in train.overview_stop]\n",
        "test['overview_stop']=['<START> '+a+' <END>' for a in test.overview_stop]"
      ],
      "execution_count": null,
      "outputs": []
    },
    {
      "cell_type": "code",
      "metadata": {
        "id": "OGhzJv7vfoD1"
      },
      "source": [
        "# Tokenizing / Create a Tokenizer object\n",
        "\n",
        "liststrings = list(data.overview_stop)\n",
        "size_dict = 10000\n",
        "tokenizer = Tokenizer(num_words= size_dict+1, \n",
        "                      filters='!\"#$%&()*+,-/:;=?@[\\\\]^_`{|}~\\t\\n', \n",
        "                      split=' ', \n",
        "                      oov_token='<UNK>',\n",
        "                      document_count=0)\n",
        "\n",
        "\n",
        "tokenizer.fit_on_texts(liststrings) \n",
        "seqtokens = tokenizer.texts_to_sequences(liststrings)\n",
        "traintokens = tokenizer.texts_to_sequences(list(train.overview_stop))\n",
        "testtokens = tokenizer.texts_to_sequences(list(test.overview_stop))\n",
        "\n",
        "tokenizer_config = tokenizer.get_config()\n",
        "dict_counts = tokenizer_config['word_counts']\n",
        "dict_index = tokenizer_config['word_index'] "
      ],
      "execution_count": null,
      "outputs": []
    },
    {
      "cell_type": "code",
      "metadata": {
        "id": "hX5g55F2yXtw"
      },
      "source": [
        "tokenizer.sequences_to_texts(seqtokens)[:5] "
      ],
      "execution_count": null,
      "outputs": []
    },
    {
      "cell_type": "code",
      "metadata": {
        "id": "mL58tZAufQPo"
      },
      "source": [
        "sequnk = [[1 if x ==1 else 0 for x in s] for s in seqtokens]\n",
        "count_unk = [np.sum(x) for x in sequnk]\n",
        "freq_unk = [float(np.sum(x)/len(x)) for x in sequnk]"
      ],
      "execution_count": null,
      "outputs": []
    },
    {
      "cell_type": "code",
      "metadata": {
        "id": "qHMy_odgfdaS",
        "outputId": "7ab2de6a-1288-4288-e074-72915d2e8b2b",
        "colab": {
          "base_uri": "https://localhost:8080/"
        }
      },
      "source": [
        "# Reminder of the length of the snippets...\n",
        "print('Average Number of <UNK>s is: ', np.round(np.mean(count_unk),1))\n",
        "print('Max Number of <UNK>s is: ', np.round(np.max(count_unk),1))\n",
        "\n",
        "print('Average Freq of <UNK>s is: ', np.round(np.mean(freq_unk),3))\n",
        "print('Max Freq of <UNK>s is: ', np.round(np.max(freq_unk),3))"
      ],
      "execution_count": null,
      "outputs": [
        {
          "output_type": "stream",
          "text": [
            "Average Number of <UNK>s is:  2.4\n",
            "Max Number of <UNK>s is:  12\n",
            "Average Freq of <UNK>s is:  0.041\n",
            "Max Freq of <UNK>s is:  0.121\n"
          ],
          "name": "stdout"
        }
      ]
    },
    {
      "cell_type": "code",
      "metadata": {
        "id": "fLC-Jkfo2ed0"
      },
      "source": [
        "lengths = [len(x) for x in seqtokens]\n",
        "maxlen = max(lengths)\n",
        "m = len(seqtokens)"
      ],
      "execution_count": null,
      "outputs": []
    },
    {
      "cell_type": "code",
      "metadata": {
        "id": "9Ij5wJTE0zOn"
      },
      "source": [
        "x = pad_sequences(seqtokens, maxlen=maxlen)"
      ],
      "execution_count": null,
      "outputs": []
    },
    {
      "cell_type": "code",
      "metadata": {
        "id": "kDzX1yyo3add"
      },
      "source": [
        "y = np.array(data[['drama','comedy','thriller','romance','adventure','family']])"
      ],
      "execution_count": null,
      "outputs": []
    },
    {
      "cell_type": "code",
      "metadata": {
        "id": "TLiH0nc03yAX",
        "outputId": "e36d2b29-1616-439c-def4-aa87d0a2b203",
        "colab": {
          "base_uri": "https://localhost:8080/"
        }
      },
      "source": [
        "print(\"x shape: \", x.shape)\n",
        "print(\"y shape: \", y.shape)"
      ],
      "execution_count": null,
      "outputs": [
        {
          "output_type": "stream",
          "text": [
            "x shape:  (20691, 136)\n",
            "y shape:  (20691, 6)\n"
          ],
          "name": "stdout"
        }
      ]
    },
    {
      "cell_type": "code",
      "metadata": {
        "id": "bBGL83TyZMtE"
      },
      "source": [
        "dict_index"
      ],
      "execution_count": null,
      "outputs": []
    },
    {
      "cell_type": "markdown",
      "metadata": {
        "id": "mzVUh3ugx4-7"
      },
      "source": [
        "##STEP2 // PRE-PROCESS INTO SMALLER SEQUENCES"
      ]
    },
    {
      "cell_type": "code",
      "metadata": {
        "id": "-wgKn6LrZ5mP",
        "outputId": "ebea0b9b-c40e-4120-fc02-a0996554d0bb",
        "colab": {
          "base_uri": "https://localhost:8080/"
        }
      },
      "source": [
        "### WORD-LEVEL LANGUAGE MODEL WITH A FIXED WINDOW ###\n",
        "# Script inspired in parts by the CHAR-LEVEL model: lstm_text_generation.py by fchollet https://github.com/keras-team/keras\n",
        "# Adapted for this project by: ceciloge@stanford.edu\n",
        "\n",
        "# Preprocess the text into smaller sequences of words on one side (window length), and output next word on the other\n",
        "win_len = 10\n",
        "#tokens = list(compress(seqtokens, drama_filter))\n",
        "tokens = traintokens\n",
        "x_rnn = []\n",
        "y_rnn = []\n",
        "\n",
        "for j, text in enumerate(tokens):\n",
        "  if j%5000 == 0: print(\"We're at...\", j)\n",
        "  for i in range(len(text)-win_len):\n",
        "    x_rnn.append(text[i:i+win_len])\n",
        "    y_rnn.append(text[i+win_len])\n",
        "\n",
        "print(\"Total number of smaller sequences: \", len(x_rnn))"
      ],
      "execution_count": null,
      "outputs": [
        {
          "output_type": "stream",
          "text": [
            "We're at... 0\n",
            "We're at... 5000\n",
            "We're at... 10000\n",
            "We're at... 15000\n",
            "We're at... 20000\n",
            "Total number of smaller sequences:  878744\n"
          ],
          "name": "stdout"
        }
      ]
    },
    {
      "cell_type": "code",
      "metadata": {
        "id": "Sqk-mv792NzP",
        "outputId": "a3bd2005-2315-4d32-8571-76a8629779d0",
        "colab": {
          "base_uri": "https://localhost:8080/"
        }
      },
      "source": [
        "# Turning our sequences into arrays\n",
        "x_rnn_array = np.array([np.array(s) for s in x_rnn])\n",
        "y_rnn_array = np.array([np.array(s) for s in y_rnn])-1\n",
        "print('x Shape: ',x_rnn_array.shape)\n",
        "print('y Shape: ',y_rnn_array.shape)"
      ],
      "execution_count": null,
      "outputs": [
        {
          "output_type": "stream",
          "text": [
            "x Shape:  (878744, 10)\n",
            "y Shape:  (878744,)\n"
          ],
          "name": "stdout"
        }
      ]
    },
    {
      "cell_type": "markdown",
      "metadata": {
        "id": "N_73CJ7MZ6k5"
      },
      "source": [
        "##STEP3 // TRAIN A BASELINE RNN TO PRODUCE TEXT"
      ]
    },
    {
      "cell_type": "code",
      "metadata": {
        "id": "txulTMWD4XG1",
        "outputId": "e46b909a-e0b8-4c97-9be0-674ce0e33dcc",
        "colab": {
          "base_uri": "https://localhost:8080/"
        }
      },
      "source": [
        "### RNN LANGUAGE MODEL ###\n",
        "# By: ceciloge@stanford.edu\n",
        "\n",
        "# Input & Embedding\n",
        "seq_input = Input(shape=(win_len,), name = 'miniseq')\n",
        "h = Embedding(size_dict+1, 64, input_length = win_len, mask_zero=True, name = 'embedding')(seq_input)\n",
        "\n",
        "# Two GRU Layers\n",
        "h = GRU(256, name = 'GRU1', return_sequences= True, kernel_initializer = 'glorot_normal')(h)\n",
        "h = GRU(256, name = 'GRU2', kernel_initializer = 'glorot_normal')(h)\n",
        "\n",
        "# Final Dense Layers\n",
        "h = Dense(512, activation = 'relu', name = 'dense1')(h)\n",
        "h = Dense(2560, activation = 'relu', name = 'dense2')(h)\n",
        "next_word = Dense(size_dict, activation='linear', name = 'final')(h)\n",
        "\n",
        "gen_model = Model(inputs = seq_input, outputs = next_word)\n",
        "gen_model.summary()"
      ],
      "execution_count": null,
      "outputs": [
        {
          "output_type": "stream",
          "text": [
            "Model: \"functional_1\"\n",
            "_________________________________________________________________\n",
            "Layer (type)                 Output Shape              Param #   \n",
            "=================================================================\n",
            "miniseq (InputLayer)         [(None, 10)]              0         \n",
            "_________________________________________________________________\n",
            "embedding (Embedding)        (None, 10, 64)            640064    \n",
            "_________________________________________________________________\n",
            "GRU1 (GRU)                   (None, 10, 256)           247296    \n",
            "_________________________________________________________________\n",
            "GRU2 (GRU)                   (None, 256)               394752    \n",
            "_________________________________________________________________\n",
            "dense1 (Dense)               (None, 512)               131584    \n",
            "_________________________________________________________________\n",
            "dense2 (Dense)               (None, 2560)              1313280   \n",
            "_________________________________________________________________\n",
            "final (Dense)                (None, 10000)             25610000  \n",
            "=================================================================\n",
            "Total params: 28,336,976\n",
            "Trainable params: 28,336,976\n",
            "Non-trainable params: 0\n",
            "_________________________________________________________________\n"
          ],
          "name": "stdout"
        }
      ]
    },
    {
      "cell_type": "code",
      "metadata": {
        "id": "KCO5_nAI1wmj"
      },
      "source": [
        "# Functions to produce text with our RNN model\n",
        "\n",
        "every = 5\n",
        "end = tokenizer.texts_to_sequences([['<end>']])[0][0] \n",
        "start = tokenizer.texts_to_sequences([['<start>']])[0][0] \n",
        "dicke = tokenizer.texts_to_sequences([[\"dickens'\"]])[0][0]\n",
        "\n",
        "def sample(preds, greedy = False):\n",
        "  # This first function samples the next word based on the output logits from the model\n",
        "  preds = np.asarray(preds).astype('float64')\n",
        "  #print(preds)\n",
        "  preds[0] = np.min(preds) # Minimize prob of <UNK> from being generated as it is not useful\n",
        "  preds[start-1] = np.min(preds) # Minimize prob of <start> from being generated as it is not useful\n",
        "  preds[dicke-1] = np.min(preds) # Minimize prob of \"dicken'\" from being generated as it is not useful\n",
        "  preds = preds-np.max(preds)\n",
        "  preds = np.exp(preds)\n",
        "  preds = preds/np.sum(preds)\n",
        "  samp = np.random.multinomial(1, preds, 1)\n",
        "  if greedy: \n",
        "    out = max(1, np.argmax(preds))\n",
        "  else: \n",
        "    out = np.argmax(samp)\n",
        "  return out+1\n",
        "\n",
        "def generate_text(epoch, _):\n",
        "  # This second function prints generated text at end of every few epochs\n",
        "  if epoch%every == 0:\n",
        "    print()\n",
        "    input = '<start> when siblings judy and peter discover a board game'\n",
        "    print('Seed: \"' + input + '\"')\n",
        "    output = []\n",
        "    x_in = np.array(tokenizer.texts_to_sequences([input])[0])\n",
        "    i = -1\n",
        "    count = 0\n",
        "    while i != end and count < 35:     \n",
        "      preds = gen_model.predict(x_in.reshape((1,x_in.shape[0])), verbose=0)[0]\n",
        "      i = sample(preds)\n",
        "      x_in = np.append(x_in[1:],i)\n",
        "      output.append(i)\n",
        "      count+=1\n",
        "      \n",
        "    print(input+\" \"+tokenizer.sequences_to_texts([output])[0])\n",
        "\n",
        "# Defining our callbacks:\n",
        "checkpoint = ModelCheckpoint(filepath='model',\n",
        "                             frequency = \"epoch\",\n",
        "                             save_weights_only = True,\n",
        "                             verbose = 0)\n",
        "\n",
        "gen_callback = LambdaCallback(on_epoch_end=generate_text)\n"
      ],
      "execution_count": null,
      "outputs": []
    },
    {
      "cell_type": "code",
      "metadata": {
        "id": "WBy8VJxo8VMP",
        "outputId": "1f88d750-7bb1-4230-e533-00838827a1b0",
        "colab": {
          "base_uri": "https://localhost:8080/"
        }
      },
      "source": [
        "# Optimizer, Loss & Compiling\n",
        "opt = Adamax(learning_rate=0.0001)\n",
        "loss = SparseCategoricalCrossentropy(from_logits=True, name='sparse_cce')\n",
        "gen_model.compile(loss=loss, optimizer=opt)\n",
        "print('Ready!')"
      ],
      "execution_count": null,
      "outputs": [
        {
          "output_type": "stream",
          "text": [
            "Ready!\n"
          ],
          "name": "stdout"
        }
      ]
    },
    {
      "cell_type": "code",
      "metadata": {
        "id": "Kg2ayY64NgpU",
        "outputId": "caece889-6c75-40e8-eaeb-3bba6bac204d",
        "colab": {
          "base_uri": "https://localhost:8080/"
        }
      },
      "source": [
        "gen_model.load_weights('/content/drive/My Drive/CS230/Models/baseline')"
      ],
      "execution_count": null,
      "outputs": [
        {
          "output_type": "execute_result",
          "data": {
            "text/plain": [
              "<tensorflow.python.training.tracking.util.CheckpointLoadStatus at 0x7f8953608da0>"
            ]
          },
          "metadata": {
            "tags": []
          },
          "execution_count": 22
        }
      ]
    },
    {
      "cell_type": "code",
      "metadata": {
        "id": "1ycqkPSz1zPI"
      },
      "source": [
        "# Let's train!\n",
        "gen_model.fit(x_rnn_array, y_rnn_array,\n",
        "          batch_size=256,\n",
        "          epochs= 20,\n",
        "          callbacks=[gen_callback, checkpoint],\n",
        "          verbose = 1)"
      ],
      "execution_count": null,
      "outputs": []
    },
    {
      "cell_type": "code",
      "metadata": {
        "id": "LlnXFSUQYzZx"
      },
      "source": [
        "gen_model.save_weights('/content/drive/My Drive/CS230/Models/baseline')"
      ],
      "execution_count": null,
      "outputs": []
    },
    {
      "cell_type": "code",
      "metadata": {
        "id": "34TOc4dQ0hyB",
        "outputId": "56e570f6-90e7-47a6-d1b3-934a61e9f2f7",
        "colab": {
          "base_uri": "https://localhost:8080/"
        }
      },
      "source": [
        "gen_model.evaluate(x_rnn_array, y_rnn_array)"
      ],
      "execution_count": null,
      "outputs": [
        {
          "output_type": "stream",
          "text": [
            "27461/27461 [==============================] - 116s 4ms/step - loss: 0.8327\n"
          ],
          "name": "stdout"
        },
        {
          "output_type": "execute_result",
          "data": {
            "text/plain": [
              "0.8326650261878967"
            ]
          },
          "metadata": {
            "tags": []
          },
          "execution_count": 28
        }
      ]
    },
    {
      "cell_type": "code",
      "metadata": {
        "id": "zGXqY_VV854v"
      },
      "source": [
        "# Let's choose several seeds:\n",
        "\n",
        "string_seed0 = 'judy and peter discover a board game that will'\n",
        "string_seed1 = 'CS230 students met a year ago for the'\n",
        "string_seed2 = 'professor andrew is on a mission to' \n",
        "string_seed3 = 'professor andrew goes on an adventure to'\n",
        "string_seed4 = 'CS230 students discover a'\n",
        "string_seed5 = 'a group of friends decides to go out for'\n",
        "\n",
        "def model_generate_text(model = gen_model, seed = string_seed1, length = 100, greedy = False, verbose = True, endtok = True):\n",
        "    # This function generates text from a given seed - works like the callback function.\n",
        "    input = '<START> '+seed\n",
        "    output = []\n",
        "    \n",
        "    x_in = pad_sequences(tokenizer.texts_to_sequences([input]), maxlen=10)\n",
        "\n",
        "    i = -1\n",
        "    count = 0\n",
        "    if endtok == True:\n",
        "      while i != end and count <length:     \n",
        "        preds = model.predict(x_in, verbose=0)[0]\n",
        "        i = sample(preds, greedy=greedy)\n",
        "        x_in = np.append(x_in[:,1:],i).reshape((1,10))\n",
        "        output.append(i)\n",
        "        count +=1\n",
        "    else:\n",
        "      while count <length:     \n",
        "        preds = model.predict(x_in, verbose=0)[0]\n",
        "        i = sample(preds, greedy=greedy)\n",
        "        x_in = np.append(x_in[:,1:],i).reshape((1,10))\n",
        "        output.append(i)\n",
        "        count +=1\n",
        "    if verbose: print(seed+\" \"+tokenizer.sequences_to_texts([output])[0])\n",
        "    return str(seed+\" \"+tokenizer.sequences_to_texts([output])[0]), output"
      ],
      "execution_count": null,
      "outputs": []
    },
    {
      "cell_type": "code",
      "metadata": {
        "id": "Vd0S1dkd_0jP",
        "outputId": "ab4539a2-2f3a-406e-f5ff-197dd655d949",
        "colab": {
          "base_uri": "https://localhost:8080/"
        }
      },
      "source": [
        "# Now let's produce text with our fully trained model: \n",
        "\n",
        "#text0, output0 = model_generate_text(model = gen_model, seed = string_seed0, length = 65, greedy = True)\n",
        "#text0, output0 = model_generate_text(model = gen_model, seed = string_seed0, length = 65, greedy = False)\n",
        "print(20*\"_\"+\" RANDOM \" + 20*\"_\")\n",
        "print(\" \")\n",
        "text1, output1 = model_generate_text(model = gen_model, seed = string_seed1, length = 50)\n",
        "text2, output2 = model_generate_text(model = gen_model, seed = string_seed2, length = 50)\n",
        "text3, output3 = model_generate_text(model = gen_model, seed = string_seed3, length = 50)\n",
        "text4, output4 = model_generate_text(model = gen_model, seed = string_seed4, length = 50)\n",
        "text5, output5 = model_generate_text(model = gen_model, seed = string_seed5, length = 50)\n",
        "print(\" \")\n",
        "print(50*\"_\")\n",
        "print(\" \")\n",
        "print(20*\"_\"+\" GREEDY \" + 20*\"_\")\n",
        "print(\" \")\n",
        "text6, output6 = model_generate_text(model = gen_model, seed = string_seed1, length = 50, greedy = True)\n",
        "text7, output7 = model_generate_text(model = gen_model, seed = string_seed2, length = 50, greedy = True)\n",
        "text8, output8 = model_generate_text(model = gen_model, seed = string_seed3, length = 50, greedy = True)\n",
        "text9, output9 = model_generate_text(model = gen_model, seed = string_seed4, length = 50, greedy = True)\n",
        "text10, output10 = model_generate_text(model = gen_model, seed = string_seed5, length = 50, greedy = True)\n",
        "print(\" \")\n"
      ],
      "execution_count": null,
      "outputs": [
        {
          "output_type": "stream",
          "text": [
            "____________________ RANDOM ____________________\n",
            " \n",
            "CS230 students met a year ago for the role of a local farmer . <end>\n",
            "professor andrew is on a mission to date a female new yorker whose long lost dad can be rescued . as he struggled to escape the stranger is determined to turn their kids away from him . the boy delivers strong children and the competition of his slow city featuring also numerous couples . three years later\n",
            "professor andrew goes on an adventure to take his men away from his girlfriend's money and sells his ex lover mom martin more dollars high professional faith instead . but what if to build it is a cover individuals was haunting . intrigued against his exclusive gender disaster it is now as a murder he can revive\n",
            "CS230 students discover a romantic battle – and skills for the french name of a science crew quickly foster isolated blood rooms . <end>\n",
            "a group of friends decides to go out for their destination off to confront his own death legacy . <end>\n",
            " \n",
            "__________________________________________________\n",
            " \n",
            "____________________ GREEDY ____________________\n",
            " \n",
            "CS230 students met a year ago for the wedding of a broadway teacher . there she acts for something that work no thrills discover that the derelict lives due to her own house . suffering from home she buys a seemingly kind she moves on her and she leaves her plight with his estranged parents for this to\n",
            "professor andrew is on a mission to date a young boy looking for a fresh buck room . he only run himself alone completely in japanese war city . <end>\n",
            "professor andrew goes on an adventure to take down the complications of her family friends and her own marriage . eventually she ends up falling victim to her husband . <end>\n",
            "CS230 students discover a plot to rob a warehouse in a country in the desert the doctor a lawyer is mistaken as a teenager and ray camping to capture . <end>\n",
            "a group of friends decides to go out for the farm and upcoming williams survives a huge book deep beyond his courtship and no opportunities in trying to make a slice of his dreams . <end>\n",
            " \n"
          ],
          "name": "stdout"
        }
      ]
    },
    {
      "cell_type": "markdown",
      "metadata": {
        "id": "q6t-V-bi3_YE"
      },
      "source": [
        "##STEP 4 // TRAIN A GATED CNN WITH RESIDUAL"
      ]
    },
    {
      "cell_type": "code",
      "metadata": {
        "id": "NfB_V8Ih7vVA",
        "outputId": "a549296b-cc5e-452c-c6eb-d80557970d28",
        "colab": {
          "base_uri": "https://localhost:8080/"
        }
      },
      "source": [
        "### GATED CNN LANGUAGE MODEL ###\n",
        "# Convolution Blocks consisting in: Conv1D with Gated Linear Unit \n",
        "# (Research: https://arxiv.org/abs/1612.08083 by Y. Dauphin)\n",
        "# Idea adapted for this project by: ceciloge@stanford.edu\n",
        "\n",
        "# Input & Embedding\n",
        "seq_input = Input(shape=(win_len,), name = 'miniseq')\n",
        "o0 = Embedding(size_dict+1, 64, input_length = win_len, mask_zero=True, name = 'embedding')(seq_input)\n",
        "\n",
        "# Block 1\n",
        "h1 = Conv1D(128, 4, strides=1, padding=\"causal\", name ='Conv11', kernel_initializer = 'glorot_normal')(o0)\n",
        "h1 = BatchNormalization()(h1)\n",
        "h2 = Conv1D(128, 4, strides=1, padding=\"causal\", name ='Conv12', kernel_initializer = 'glorot_normal')(o0)\n",
        "h2 = BatchNormalization()(h2)\n",
        "h2 = Activation(activations.sigmoid)(h2)\n",
        "o1 = Multiply()([h1, h2])\n",
        "\n",
        "# Block 2\n",
        "h1 = Conv1D(128, 4, strides=1, padding=\"causal\", name ='Conv21', kernel_initializer = 'glorot_normal')(o1)\n",
        "h1 = BatchNormalization()(h1)\n",
        "h2 = Conv1D(128, 4, strides=1, padding=\"causal\", name ='Conv22', kernel_initializer = 'glorot_normal')(o1)\n",
        "h2 = BatchNormalization()(h2)\n",
        "h2 = Activation(activations.sigmoid)(h2)\n",
        "o2 = Multiply()([h1, h2])\n",
        "\n",
        "# Block 3\n",
        "h1 = Conv1D(128, 4, strides=1, padding=\"causal\", name ='Conv31', kernel_initializer = 'glorot_normal')(o2)\n",
        "h1 = BatchNormalization()(h1)\n",
        "h2 = Conv1D(128, 4, strides=1, padding=\"causal\", name ='Conv32', kernel_initializer = 'glorot_normal')(o2)\n",
        "h2 = BatchNormalization()(h2)\n",
        "h2 = Add()([o1, h2]) #Residual from Block1\n",
        "h2 = Activation(activations.sigmoid)(h2)\n",
        "o3 = Multiply()([h1, h2])\n",
        "\n",
        "# Final Dense Layers\n",
        "h = Dense(512, activation = 'relu', name = 'dense1', kernel_initializer = 'he_normal')(o3)\n",
        "h = Dense(2560, activation = 'relu', name = 'dense2', kernel_initializer = 'he_normal')(h)\n",
        "next_word = Dense(size_dict, activation='linear', name = 'final')(h)\n",
        "\n",
        "gen_model2 = Model(inputs = seq_input, outputs = next_word[:,-1,:])\n",
        "gen_model2.summary()"
      ],
      "execution_count": null,
      "outputs": [
        {
          "output_type": "stream",
          "text": [
            "Model: \"functional_3\"\n",
            "__________________________________________________________________________________________________\n",
            "Layer (type)                    Output Shape         Param #     Connected to                     \n",
            "==================================================================================================\n",
            "miniseq (InputLayer)            [(None, 10)]         0                                            \n",
            "__________________________________________________________________________________________________\n",
            "embedding (Embedding)           (None, 10, 64)       640064      miniseq[0][0]                    \n",
            "__________________________________________________________________________________________________\n",
            "Conv12 (Conv1D)                 (None, 10, 128)      32896       embedding[0][0]                  \n",
            "__________________________________________________________________________________________________\n",
            "Conv11 (Conv1D)                 (None, 10, 128)      32896       embedding[0][0]                  \n",
            "__________________________________________________________________________________________________\n",
            "batch_normalization_1 (BatchNor (None, 10, 128)      512         Conv12[0][0]                     \n",
            "__________________________________________________________________________________________________\n",
            "batch_normalization (BatchNorma (None, 10, 128)      512         Conv11[0][0]                     \n",
            "__________________________________________________________________________________________________\n",
            "activation (Activation)         (None, 10, 128)      0           batch_normalization_1[0][0]      \n",
            "__________________________________________________________________________________________________\n",
            "multiply (Multiply)             (None, 10, 128)      0           batch_normalization[0][0]        \n",
            "                                                                 activation[0][0]                 \n",
            "__________________________________________________________________________________________________\n",
            "Conv22 (Conv1D)                 (None, 10, 128)      65664       multiply[0][0]                   \n",
            "__________________________________________________________________________________________________\n",
            "Conv21 (Conv1D)                 (None, 10, 128)      65664       multiply[0][0]                   \n",
            "__________________________________________________________________________________________________\n",
            "batch_normalization_3 (BatchNor (None, 10, 128)      512         Conv22[0][0]                     \n",
            "__________________________________________________________________________________________________\n",
            "batch_normalization_2 (BatchNor (None, 10, 128)      512         Conv21[0][0]                     \n",
            "__________________________________________________________________________________________________\n",
            "activation_1 (Activation)       (None, 10, 128)      0           batch_normalization_3[0][0]      \n",
            "__________________________________________________________________________________________________\n",
            "multiply_1 (Multiply)           (None, 10, 128)      0           batch_normalization_2[0][0]      \n",
            "                                                                 activation_1[0][0]               \n",
            "__________________________________________________________________________________________________\n",
            "Conv32 (Conv1D)                 (None, 10, 128)      65664       multiply_1[0][0]                 \n",
            "__________________________________________________________________________________________________\n",
            "batch_normalization_5 (BatchNor (None, 10, 128)      512         Conv32[0][0]                     \n",
            "__________________________________________________________________________________________________\n",
            "Conv31 (Conv1D)                 (None, 10, 128)      65664       multiply_1[0][0]                 \n",
            "__________________________________________________________________________________________________\n",
            "add (Add)                       (None, 10, 128)      0           multiply[0][0]                   \n",
            "                                                                 batch_normalization_5[0][0]      \n",
            "__________________________________________________________________________________________________\n",
            "batch_normalization_4 (BatchNor (None, 10, 128)      512         Conv31[0][0]                     \n",
            "__________________________________________________________________________________________________\n",
            "activation_2 (Activation)       (None, 10, 128)      0           add[0][0]                        \n",
            "__________________________________________________________________________________________________\n",
            "multiply_2 (Multiply)           (None, 10, 128)      0           batch_normalization_4[0][0]      \n",
            "                                                                 activation_2[0][0]               \n",
            "__________________________________________________________________________________________________\n",
            "dense1 (Dense)                  (None, 10, 512)      66048       multiply_2[0][0]                 \n",
            "__________________________________________________________________________________________________\n",
            "dense2 (Dense)                  (None, 10, 2560)     1313280     dense1[0][0]                     \n",
            "__________________________________________________________________________________________________\n",
            "final (Dense)                   (None, 10, 10000)    25610000    dense2[0][0]                     \n",
            "__________________________________________________________________________________________________\n",
            "tf_op_layer_strided_slice (Tens [(None, 10000)]      0           final[0][0]                      \n",
            "==================================================================================================\n",
            "Total params: 27,960,912\n",
            "Trainable params: 27,959,376\n",
            "Non-trainable params: 1,536\n",
            "__________________________________________________________________________________________________\n"
          ],
          "name": "stdout"
        }
      ]
    },
    {
      "cell_type": "code",
      "metadata": {
        "id": "CJLbBq4WReXd"
      },
      "source": [
        "# Functions to produce text with our Gated CNN model\n",
        "\n",
        "every = 5\n",
        "\n",
        "def generate_text2(epoch, _):\n",
        "  # This second function prints generated text at end of every few epochs\n",
        "  if epoch%every == 0:\n",
        "    print()\n",
        "    input = '<start> when siblings judy and peter discover a board game'\n",
        "    print('Seed: \"' + input + '\"')\n",
        "    output = []\n",
        "    x_in = np.array(tokenizer.texts_to_sequences([input])[0])\n",
        "    i = -1\n",
        "    count = 0\n",
        "    while i != end and count < 35:     \n",
        "      preds = gen_model2.predict(x_in.reshape((1,x_in.shape[0])), verbose=0)[0]\n",
        "      i = sample(preds)\n",
        "      x_in = np.append(x_in[1:],i)\n",
        "      output.append(i)\n",
        "      count+=1\n",
        "    print(input+\" \"+tokenizer.sequences_to_texts([output])[0])\n",
        "\n",
        "\n",
        "# Defining our callbacks - reusing code from previous model:\n",
        "checkpoint2 = ModelCheckpoint(filepath='model2',\n",
        "                             frequency = \"epoch\",\n",
        "                             save_weights_only = True,\n",
        "                             verbose = 0)\n",
        "\n",
        "gen_callback2 = LambdaCallback(on_epoch_end=generate_text2)"
      ],
      "execution_count": null,
      "outputs": []
    },
    {
      "cell_type": "code",
      "metadata": {
        "id": "n9TN3TPK8PYO",
        "outputId": "f4bb0813-cd45-45d1-fe22-3cd3807e1feb",
        "colab": {
          "base_uri": "https://localhost:8080/"
        }
      },
      "source": [
        "opt = Adamax(learning_rate=0.0004)\n",
        "loss = SparseCategoricalCrossentropy(from_logits=True, name='sparse_cce')\n",
        "gen_model2.compile(loss=loss, optimizer=opt)\n",
        "print('Ready!')"
      ],
      "execution_count": null,
      "outputs": [
        {
          "output_type": "stream",
          "text": [
            "Ready!\n"
          ],
          "name": "stdout"
        }
      ]
    },
    {
      "cell_type": "code",
      "metadata": {
        "id": "btjpFd9iY5aR",
        "outputId": "7b1be9d7-a931-4911-b8bb-ad9f3fe86000",
        "colab": {
          "base_uri": "https://localhost:8080/"
        }
      },
      "source": [
        "gen_model2.load_weights('/content/drive/My Drive/CS230/Models/gatedcnn')"
      ],
      "execution_count": null,
      "outputs": [
        {
          "output_type": "execute_result",
          "data": {
            "text/plain": [
              "<tensorflow.python.training.tracking.util.CheckpointLoadStatus at 0x7f89300b8780>"
            ]
          },
          "metadata": {
            "tags": []
          },
          "execution_count": 27
        }
      ]
    },
    {
      "cell_type": "code",
      "metadata": {
        "id": "aoQNLijn8YIA",
        "outputId": "ff7ecff4-ae45-4d21-dc29-f64cf5d3e443",
        "colab": {
          "base_uri": "https://localhost:8080/"
        }
      },
      "source": [
        "#Let's train!\n",
        "gen_model2.fit(x_rnn_array, y_rnn_array,\n",
        "          batch_size=256,\n",
        "          epochs=5,\n",
        "          callbacks=[gen_callback2, checkpoint2])"
      ],
      "execution_count": null,
      "outputs": [
        {
          "output_type": "stream",
          "text": [
            "Epoch 1/5\n",
            "3433/3433 [==============================] - ETA: 0s - loss: 3.7263\n",
            "Seed: \"<start> when siblings judy and peter discover a board game\"\n",
            "<start> when siblings judy and peter discover a board game of revenge with her run out world . <end>\n",
            "3433/3433 [==============================] - 412s 120ms/step - loss: 3.7263\n",
            "Epoch 2/5\n",
            "3433/3433 [==============================] - 410s 119ms/step - loss: 3.7259\n",
            "Epoch 3/5\n",
            "3433/3433 [==============================] - 409s 119ms/step - loss: 3.7251\n",
            "Epoch 4/5\n",
            "3433/3433 [==============================] - 408s 119ms/step - loss: 3.7242\n",
            "Epoch 5/5\n",
            "3433/3433 [==============================] - 410s 119ms/step - loss: 3.7240\n"
          ],
          "name": "stdout"
        },
        {
          "output_type": "execute_result",
          "data": {
            "text/plain": [
              "<tensorflow.python.keras.callbacks.History at 0x7f88dc56ca90>"
            ]
          },
          "metadata": {
            "tags": []
          },
          "execution_count": 36
        }
      ]
    },
    {
      "cell_type": "code",
      "metadata": {
        "id": "7NAlPdi3avnM"
      },
      "source": [
        "gen_model2.save_weights('/content/drive/My Drive/CS230/Models/gatedcnn')"
      ],
      "execution_count": null,
      "outputs": []
    },
    {
      "cell_type": "code",
      "metadata": {
        "id": "q_4Iq1dsweyk"
      },
      "source": [
        "gen_model2.evaluate(x_rnn_array, y_rnn_array)"
      ],
      "execution_count": null,
      "outputs": []
    },
    {
      "cell_type": "code",
      "metadata": {
        "id": "lYsMM6PmdO8w",
        "outputId": "8efc34f3-7504-41c4-a21d-4b0ab6f34e8e",
        "colab": {
          "base_uri": "https://localhost:8080/"
        }
      },
      "source": [
        "# Now let's produce text with our fully trained model:2  \n",
        "\n",
        "print(20*\"_\"+\" RANDOM \" + 20*\"_\")\n",
        "print(\" \")\n",
        "text1, output1 = model_generate_text(model = gen_model2, seed = string_seed1, length = 50)\n",
        "text2, output2 = model_generate_text(model = gen_model2, seed = string_seed2, length = 50)\n",
        "text3, output3 = model_generate_text(model = gen_model2, seed = string_seed3, length = 50)\n",
        "text4, output4 = model_generate_text(model = gen_model2, seed = string_seed4, length = 50)\n",
        "text5, output5 = model_generate_text(model = gen_model2, seed = string_seed5, length = 50)\n",
        "print(\" \")\n",
        "print(50*\"_\")\n",
        "print(\" \")\n",
        "print(20*\"_\"+\" GREEDY \" + 20*\"_\")\n",
        "print(\" \")\n",
        "text6, output6 = model_generate_text(model = gen_model2, seed = string_seed1, length = 50, greedy = True)\n",
        "text7, output7 = model_generate_text(model = gen_model2, seed = string_seed2, length = 50, greedy = True)\n",
        "text8, output8 = model_generate_text(model = gen_model2, seed = string_seed3, length = 50, greedy = True)\n",
        "text9, output9 = model_generate_text(model = gen_model2, seed = string_seed4, length = 50, greedy = True)\n",
        "text10, output10 = model_generate_text(model = gen_model2, seed = string_seed5, length = 50, greedy = True)\n",
        "print(\" \")\n"
      ],
      "execution_count": null,
      "outputs": [
        {
          "output_type": "stream",
          "text": [
            "____________________ RANDOM ____________________\n",
            " \n",
            "CS230 students met a year ago for the murders . <end>\n",
            "professor andrew is on a mission to save the accidents scramble to prove that . <end>\n",
            "professor andrew goes on an adventure to impress the thrust who would be all about in it in his friendship <end>\n",
            "CS230 students discover a pair of mysterious men in the middle of evil icon . <end>\n",
            "a group of friends decides to go out for her wedding so to learn about pat is half people in action the other of the mob will finally find that her disastrous affections to a wheelchair but misses his she heads for the thrill at his room . <end>\n",
            " \n",
            "__________________________________________________\n",
            " \n",
            "____________________ GREEDY ____________________\n",
            " \n",
            "CS230 students met a year ago for the most popular man in school . <end>\n",
            "professor andrew is on a mission to find the truth about the world . <end>\n",
            "professor andrew goes on an adventure to get up to the same family . <end>\n",
            "CS230 students discover a new drug robbery and the money to get up to the man of a new york neighbourhood . <end>\n",
            "a group of friends decides to go out for his own life and then are forced to make a new world . <end>\n",
            " \n"
          ],
          "name": "stdout"
        }
      ]
    },
    {
      "cell_type": "markdown",
      "metadata": {
        "id": "GuQT8wd2SQzo"
      },
      "source": [
        "## STEP 4 // EVALUATE RESULTS"
      ]
    },
    {
      "cell_type": "code",
      "metadata": {
        "id": "ylPZWpwlTeF1"
      },
      "source": [
        "import tensorflow_hub as hub\n",
        "univ_embed = hub.load(\"https://tfhub.dev/google/universal-sentence-encoder/4\")"
      ],
      "execution_count": null,
      "outputs": []
    },
    {
      "cell_type": "code",
      "metadata": {
        "id": "-8-osxCTZy_L"
      },
      "source": [
        "# EVALUATE BLEU & COSINE SIMILARITY ON THE TEST SET\n",
        "\n",
        "def cosine_sim(x,y):\n",
        "    num = np.sum(x*y)\n",
        "    den = np.sqrt(np.sum(x**2))*np.sqrt(np.sum(y**2))\n",
        "    return num/float(den)\n",
        "\n",
        "def evaluate_gen(version, greedy = True):\n",
        "  bleu = []\n",
        "  sim = []\n",
        "  fun = model_generate_text\n",
        "  if version == 1: \n",
        "    model = gen_model\n",
        "  else:\n",
        "    model = gen_model2   \n",
        "  \n",
        "  for j, synopsis in enumerate(testtokens):\n",
        "    #From test set:\n",
        "    input = tokenizer.sequences_to_texts([synopsis[:10]])[0]\n",
        "    output_test = synopsis[10:]\n",
        "    output_test_string = tokenizer.sequences_to_texts([output_test])[0]\n",
        "    output_test_list = [tokenizer.sequences_to_texts([[i]])[0] for i in output_test]\n",
        "    emb_test = univ_embed([output_test_string])\n",
        "    l = len(synopsis)-10\n",
        "\n",
        "\n",
        "    #From model:\n",
        "    _, output = fun(model = model, seed = input, length = l, greedy = greedy, verbose = False, endtok = False)\n",
        "    output_string = tokenizer.sequences_to_texts([output])[0]\n",
        "    output_list = [tokenizer.sequences_to_texts([[i]])[0] for i in output]\n",
        "    emb = univ_embed([output_string])\n",
        "    #Similarity Scores:\n",
        "    b = sentence_bleu([output_test_list], output_list, smoothing_function=SmoothingFunction().method2)\n",
        "    s = cosine_sim(emb, emb_test)\n",
        "\n",
        "    if j%100 == 0: \n",
        "      print(j, \" done!\")\n",
        "      #print(\"bleu: \", b)\n",
        "      #print(\"sim: \", s)\n",
        "\n",
        "    bleu.append(b)\n",
        "    sim.append(s)\n",
        "  \n",
        "  bleu_score = np.mean(bleu)\n",
        "  sim_score = np.mean(sim)\n",
        "  print(\"BLEU: \", bleu_score)\n",
        "  print(\"COS. SIMILARITY: \", sim_score)\n",
        "  return bleu_score, sim_score"
      ],
      "execution_count": null,
      "outputs": []
    },
    {
      "cell_type": "code",
      "metadata": {
        "id": "2TsBUNBiHPc_",
        "outputId": "88b2bd18-5bbb-4391-a5fe-f4ebfb28b261",
        "colab": {
          "base_uri": "https://localhost:8080/"
        }
      },
      "source": [
        "print(\"RNN Performance:\")\n",
        "bleu_score_RNN, sim_score_RNN = evaluate_gen(1)\n",
        "\n",
        "print(\"----------- RNN Performance -----------\")\n",
        "print(\"BLEU: \", np.round(bleu_score_RNN,4))\n",
        "print(\"COS. SIMILARITY: \", np.round(sim_score_RNN,4))\n",
        "print(\" \")\n"
      ],
      "execution_count": null,
      "outputs": [
        {
          "output_type": "stream",
          "text": [
            "RNN Performance:\n",
            "----------- RNN Performance -----------\n",
            "BLEU:  0.0637\n",
            "COS. SIMILARITY:  0.2448\n",
            " \n"
          ],
          "name": "stdout"
        }
      ]
    },
    {
      "cell_type": "code",
      "metadata": {
        "id": "pb06A4DIaxSc",
        "outputId": "33eb08e7-3de6-44bf-fdf2-2f15c68c5d98",
        "colab": {
          "base_uri": "https://localhost:8080/"
        }
      },
      "source": [
        "print(\"Gated CNN Performance:\")\n",
        "bleu_score_CNN, sim_score_CNN = evaluate_gen(2)\n",
        "\n",
        "print(\"-------- Gated CNN Performance --------\")\n",
        "print(\"BLEU: \", np.round(bleu_score_CNN,4))\n",
        "print(\"COS. SIMILARITY: \", np.round(sim_score_CNN,4))"
      ],
      "execution_count": null,
      "outputs": [
        {
          "output_type": "stream",
          "text": [
            "Gated CNN Performance:\n",
            "-------- Gated CNN Performance --------\n",
            "BLEU:  0.0714\n",
            "COS. SIMILARITY:  0.2215\n"
          ],
          "name": "stdout"
        }
      ]
    }
  ]
}