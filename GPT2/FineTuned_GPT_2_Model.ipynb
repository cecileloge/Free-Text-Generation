{
  "nbformat": 4,
  "nbformat_minor": 0,
  "metadata": {
    "colab": {
      "name": "CS230 // FineTuned GPT-2 Model.ipynb",
      "provenance": [],
      "collapsed_sections": [
        "aqBUPJQQBLQv"
      ]
    },
    "kernelspec": {
      "name": "python3",
      "display_name": "Python 3"
    },
    "accelerator": "GPU"
  },
  "cells": [
    {
      "cell_type": "markdown",
      "metadata": {
        "id": "jG0aQ6pA-Lnk"
      },
      "source": [
        "# Transformer Model (Using GPT-2 / 4.4)\n",
        "Using Transfer Learning from GPT-2\n",
        "\n",
        "https://github.com/minimaxir/gpt-2-simple\n",
        "\n",
        "*   STEP 1 DOWNLOAD GPT-2 MODEL (TO BE FINETUNED)\n",
        "*   STEP 2 FINETUNE OUR MODEL ON OUR TRAINING DATASET\n",
        "*   STEP 3 GENERATE SOME SAMPLES!"
      ]
    },
    {
      "cell_type": "code",
      "metadata": {
        "id": "rlKQp1tVBKVd",
        "outputId": "51de8d4f-57a5-444b-c46f-00f7b5e5d22c",
        "colab": {
          "base_uri": "https://localhost:8080/"
        }
      },
      "source": [
        "from google.colab import drive\n",
        "drive.mount(\"/content/drive\")"
      ],
      "execution_count": null,
      "outputs": [
        {
          "output_type": "stream",
          "text": [
            "Mounted at /content/drive\n"
          ],
          "name": "stdout"
        }
      ]
    },
    {
      "cell_type": "markdown",
      "metadata": {
        "id": "aqBUPJQQBLQv"
      },
      "source": [
        "## STEP0 // IMPORT OUR STUFF"
      ]
    },
    {
      "cell_type": "code",
      "metadata": {
        "id": "x5H6lTmjCbiO",
        "outputId": "f951aa49-dda8-41e0-c6ad-7e8c45a360af",
        "colab": {
          "base_uri": "https://localhost:8080/"
        }
      },
      "source": [
        "# !pip install numpy\n",
        "import pandas as pd\n",
        "import numpy as np\n",
        "import ast\n",
        "# visualization\n",
        "import seaborn as sns\n",
        "import matplotlib.pyplot as plt\n",
        "%matplotlib inline\n",
        "\n",
        "from itertools import compress\n",
        "\n",
        "import random\n",
        "import sys\n",
        "import io\n",
        "\n",
        "#GPT2-simple not supported in TF2.0\n",
        "%tensorflow_version 1.x   \n",
        "!pip install -q gpt-2-simple\n",
        "import gpt_2_simple as gpt2\n",
        "from datetime import datetime\n",
        "from google.colab import files"
      ],
      "execution_count": null,
      "outputs": [
        {
          "output_type": "stream",
          "text": [
            "TensorFlow 1.x selected.\n",
            "  Building wheel for gpt-2-simple (setup.py) ... \u001b[?25l\u001b[?25hdone\n",
            "WARNING:tensorflow:\n",
            "The TensorFlow contrib module will not be included in TensorFlow 2.0.\n",
            "For more information, please see:\n",
            "  * https://github.com/tensorflow/community/blob/master/rfcs/20180907-contrib-sunset.md\n",
            "  * https://github.com/tensorflow/addons\n",
            "  * https://github.com/tensorflow/io (for I/O related ops)\n",
            "If you depend on functionality not listed there, please file an issue.\n",
            "\n"
          ],
          "name": "stdout"
        }
      ]
    },
    {
      "cell_type": "code",
      "metadata": {
        "id": "ZNxR2NncCcWy"
      },
      "source": [
        "import tensorflow as tf\n",
        "\n",
        "from tensorflow.keras.models import Model\n",
        "from tensorflow.keras.layers import Input, Dense, Concatenate, Masking, Embedding, Dropout\n",
        "from tensorflow.keras.preprocessing.text import Tokenizer\n",
        "from tensorflow.keras.preprocessing.sequence import pad_sequences\n",
        "from tensorflow.keras.layers import GRU, LSTM, Bidirectional\n",
        "from tensorflow.keras.layers import Conv1D, Activation, Multiply\n",
        "from tensorflow.keras.losses import CategoricalCrossentropy, SparseCategoricalCrossentropy\n",
        "from tensorflow.keras.callbacks import LambdaCallback, ModelCheckpoint\n",
        "from tensorflow.keras.optimizers import RMSprop, Adam, Adamax\n",
        "from tensorflow.keras import activations\n",
        "\n",
        "from sklearn.model_selection import train_test_split\n",
        "import nltk\n",
        "from nltk.translate.bleu_score import sentence_bleu\n",
        "from nltk.translate.bleu_score import SmoothingFunction"
      ],
      "execution_count": null,
      "outputs": []
    },
    {
      "cell_type": "code",
      "metadata": {
        "id": "p0L6ZEv1Cgrx"
      },
      "source": [
        "data = pd.read_csv('/content/drive/My Drive/CS230/finaldata.csv')\n",
        "train = pd.read_csv('/content/drive/My Drive/CS230/finaldata_train.csv')\n",
        "test = pd.read_csv('/content/drive/My Drive/CS230/finaldata_test.csv')"
      ],
      "execution_count": null,
      "outputs": []
    },
    {
      "cell_type": "markdown",
      "metadata": {
        "id": "v3huGyAJBQHj"
      },
      "source": [
        "## STEP1 // DOWNLOAD GPT-2"
      ]
    },
    {
      "cell_type": "code",
      "metadata": {
        "id": "fPbIFfNmPWTJ",
        "outputId": "6f215e8d-ac96-4694-a85d-af64b63bc9c4",
        "colab": {
          "base_uri": "https://localhost:8080/"
        }
      },
      "source": [
        "gpt2.download_gpt2(model_name=\"124M\")"
      ],
      "execution_count": null,
      "outputs": [
        {
          "output_type": "stream",
          "text": [
            "Fetching checkpoint: 1.05Mit [00:00, 299Mit/s]                                                      \n",
            "Fetching encoder.json: 1.05Mit [00:00, 118Mit/s]                                                    \n",
            "Fetching hparams.json: 1.05Mit [00:00, 282Mit/s]                                                    \n",
            "Fetching model.ckpt.data-00000-of-00001: 498Mit [00:13, 36.0Mit/s]                                  \n",
            "Fetching model.ckpt.index: 1.05Mit [00:00, 432Mit/s]                                                \n",
            "Fetching model.ckpt.meta: 1.05Mit [00:00, 181Mit/s]                                                 \n",
            "Fetching vocab.bpe: 1.05Mit [00:00, 160Mit/s]                                                       \n"
          ],
          "name": "stderr"
        }
      ]
    },
    {
      "cell_type": "code",
      "metadata": {
        "id": "JbxEusdzV0BH"
      },
      "source": [
        "with open('x.txt', 'w') as f:\n",
        "    f.write('\\n'.join([str(elem) for elem in list(train.overview)]) + '\\n')"
      ],
      "execution_count": null,
      "outputs": []
    },
    {
      "cell_type": "markdown",
      "metadata": {
        "id": "mb5yVP7IW1JX"
      },
      "source": [
        "## STEP2 // FINETUNE THE MODEL ON OUR DATASET"
      ]
    },
    {
      "cell_type": "markdown",
      "metadata": {
        "id": "3SA-0o5YQTpb"
      },
      "source": [
        "Parameters for `gpt2.finetune`:\n",
        "\n",
        "\n",
        "*  **`restore_from`**: Set to `fresh` to start training from the base GPT-2, or set to `latest` to restart training from an existing checkpoint.\n",
        "* **`sample_every`**: Number of steps to print example output\n",
        "* **`print_every`**: Number of steps to print training progress.\n",
        "* **`learning_rate`**:  Learning rate for the training. (default `1e-4`, can lower to `1e-5` if you have <1MB input data)\n",
        "*  **`run_name`**: subfolder within `checkpoint` to save the model. This is useful if you want to work with multiple models (will also need to specify  `run_name` when loading the model)\n",
        "* **`overwrite`**: Set to `True` if you want to continue finetuning an existing model (w/ `restore_from='latest'`) without creating duplicate copies. "
      ]
    },
    {
      "cell_type": "code",
      "metadata": {
        "id": "52e0_U06RGbi"
      },
      "source": [
        "sess = gpt2.start_tf_sess()\n",
        "\n",
        "gpt2.finetune(sess,\n",
        "              dataset='x.txt',\n",
        "              model_name='124M',\n",
        "              steps=800,\n",
        "              restore_from='latest',\n",
        "              run_name='run1',\n",
        "              print_every=10,\n",
        "              sample_every=500,\n",
        "              save_every=500,\n",
        "              overwrite=True\n",
        "              )"
      ],
      "execution_count": null,
      "outputs": []
    },
    {
      "cell_type": "markdown",
      "metadata": {
        "id": "Qc2eYSdib2Bk"
      },
      "source": [
        "## STEP3 // GENERATING TEXT WITH OUR FINETUNED MODEL"
      ]
    },
    {
      "cell_type": "markdown",
      "metadata": {
        "id": "nfnbU1FYLbuM"
      },
      "source": [
        "\n",
        "Parameters for `gpt2.generate`:\n",
        "\n",
        "* **`prefix`**: to force the text to start with a given character sequence and generate text from there\n",
        "* **`length`**: Number of tokens to generate (default 1023, the maximum)\n",
        "* **`temperature`**: The higher the temperature, the crazier the text (default 0.7, recommended to keep between 0.7 and 1.0)\n",
        "* **`top_k`**: Limits the generated guesses to the top *k* guesses (default 0 which disables the behavior; if the generated output is super crazy, you may want to set `top_k=40`)\n",
        "* **`top_p`**: Nucleus sampling: limits the generated guesses to a cumulative probability. (gets good results on a dataset with `top_p=0.9`)\n",
        "* **`truncate`**: Truncates the input text until a given sequence, excluding that sequence (e.g. if `truncate='<|endoftext|>'`, the returned text will include everything before the first `<|endoftext|>`). It may be useful to combine this with a smaller `length` if the input texts are short.\n",
        "*  **`include_prefix`**: If using `truncate` and `include_prefix=False`, the specified `prefix` will not be included in the returned text."
      ]
    },
    {
      "cell_type": "code",
      "metadata": {
        "id": "UGed-_nOnRst",
        "outputId": "23a2546d-5f81-4985-da5a-a670f66a99a1",
        "colab": {
          "base_uri": "https://localhost:8080/"
        }
      },
      "source": [
        "gpt2.generate(sess,\n",
        "              length=65,\n",
        "              temperature=0.7,\n",
        "              prefix=\"CS230 students met a year ago for\",\n",
        "              nsamples=5,\n",
        "              batch_size=5\n",
        "              )"
      ],
      "execution_count": null,
      "outputs": [
        {
          "output_type": "stream",
          "text": [
            "CS230 students met a year ago for the first time in years. The staff, as well as the students themselves, have been blown away by the passion that these two disparate individuals express for one another. It is a bond that will last a lifetime. The only question is how long will it last?\n",
            "Folks at a posh New York restaurant find\n",
            "====================\n",
            "CS230 students met a year ago for one of the most intimate visits in their lives. The students, their families and the people who love them all took a trip to the new place.\n",
            "When a mother and a father are kidnapped, a few lucky souls go to the rescue.\n",
            "A young man is left in a car accident by his friend. He had\n",
            "====================\n",
            "CS230 students met a year ago for the first time at the Texas A&M in Austin, Texas. There, they met the same students they had met before. It was a dream meeting. They had never met and never will. As they were the very perfect pair of girls.\n",
            "The story of a three-year-old boy who is forced to\n",
            "====================\n",
            "CS230 students met a year ago for the first time in their lives. Now, students in the middle of the Harlem street struggle to survive with dignity and trust in each other.\n",
            "The Free-spirited Johnny Garza is thrown into a war with the tyrant and his murderous counterpart.\n",
            "A private detective teams with an ex-con to track down a serial\n",
            "====================\n",
            "CS230 students met a year ago for their first time on a college campus, and what they learned is that life on campus is not as easy as it seems.\n",
            "The story of a young married couple living in the Italian countryside in the early 1930's.\n",
            "A former U.S. Marshal with a dangerous secret is back for revenge on the people who murdered\n",
            "====================\n"
          ],
          "name": "stdout"
        }
      ]
    },
    {
      "cell_type": "code",
      "metadata": {
        "id": "ZpuMklZjMQP9",
        "outputId": "f18e3c07-106d-4362-a328-be995ad47032",
        "colab": {
          "base_uri": "https://localhost:8080/"
        }
      },
      "source": [
        "gpt2.generate(sess,\n",
        "              length=65,\n",
        "              temperature=0.7,\n",
        "              prefix=\"Professor Andrew goes on a mission to\",\n",
        "              nsamples=5,\n",
        "              batch_size=5\n",
        "              )"
      ],
      "execution_count": null,
      "outputs": [
        {
          "output_type": "stream",
          "text": [
            "Professor Andrew goes on a mission to find the rightful heir to the throne.\n",
            "A young, lonely college professor is put in the position of a special assistant to a mysterious stranger.\n",
            "The story of the most important love story of all time.\n",
            "A family saga of a Chinese immigrant and a Frenchman whose house is destroyed in a fire.\n",
            "David, an\n",
            "====================\n",
            "Professor Andrew goes on a mission to find the real killer who engineered the outbreak.\n",
            "A girl named Rose becomes involved in the murder of the father of a young boy who was abducted by the Skulls and held captive for twenty-three years.\n",
            "A fisherman in the late 19th century is forced to kill his wife and take a job as a maid to\n",
            "====================\n",
            "Professor Andrew goes on a mission to help his estranged brother.\n",
            "The story of a young Russian boy who is forced to live in a totalitarian dictatorship after witnessing a revolution in Russia, and his battle with psychiatric problems, and his struggle to survive in the country where he is forced for his freedom.\n",
            "A semi-autobiographical documentary about the life and music\n",
            "====================\n",
            "Professor Andrew goes on a mission to find the mysterious, but intriguing, supernova that is causing us to fear the universe.\n",
            "This film explores the history of the United States from the early 19th century through the second half of the 20th century. The film invites us to revisit the U.S. through the prism of a life-form that has\n",
            "====================\n",
            "Professor Andrew goes on a mission to make the world a better place.\n",
            "When a young boy's family is brutally attacked by a gang of gangsters, he must protect his family and protect his best friend, who's been brain damaged in the attack.\n",
            "A young man's life is thrown into turmoil when he discovers that he is to be the prime suspect\n",
            "====================\n"
          ],
          "name": "stdout"
        }
      ]
    },
    {
      "cell_type": "code",
      "metadata": {
        "id": "7ehn4oiFMRyV",
        "outputId": "45dfc26c-b19f-42d0-cbc7-9073ff8eb64d",
        "colab": {
          "base_uri": "https://localhost:8080/"
        }
      },
      "source": [
        "gpt2.generate(sess,\n",
        "              length=65,\n",
        "              temperature=0.7,\n",
        "              prefix=\"A group of friends decides to go out for\",\n",
        "              nsamples=5,\n",
        "              batch_size=5\n",
        "              )"
      ],
      "execution_count": null,
      "outputs": [
        {
          "output_type": "stream",
          "text": [
            "A group of friends decides to go out for a little fun and fight the giant monster.\n",
            "A man returns from a vacation in the Bahamas to find the house he left in the middle of the sandstorm. He is greeted by Harold, who is still haunted by a memory of a woman who died in the island.\n",
            "The events leading up to the Iraq war are\n",
            "====================\n",
            "A group of friends decides to go out for a quick run in the beautiful country... and forget about the all important wedding!\n",
            "A man is scheduled to appear in court for his alleged involvement in a plot to assassinate a prominent American businessman. Instead, the man is brought to the U.S. Attorney's office in Los Angeles for a routine arraignment. On his\n",
            "====================\n",
            "A group of friends decides to go out for a weekend getaway and make a quick stop in the remote area of the town.\n",
            "A group of boys in a small town discover a horrifying secret that changes their lives forever.\n",
            "A young man is recruited by the US Army to be the special forces commander in Afghanistan, but has to take on a very different role in\n",
            "====================\n",
            "A group of friends decides to go out for a weekend getaway and not only dump all their belongings, but then their best friend, their own face is exposed.\n",
            "A fictionalized account of the events surrounding the Puerto Rican Revolution of 1812.\n",
            "A small-town waitress is forced to leave her job and move to the big city, where she meets a mysterious\n",
            "====================\n",
            "A group of friends decides to go out for a swim.\n",
            "A young woman's disappearance is connected to an affair with a wealthy man, and tries to stop it.\n",
            "A fateful night in a small town when a man's wife and children are shot dead.\n",
            "After his wife and daughter are brutally murdered by a psychotic gunman, a young man, Dean, decides\n",
            "====================\n"
          ],
          "name": "stdout"
        }
      ]
    }
  ]
}
